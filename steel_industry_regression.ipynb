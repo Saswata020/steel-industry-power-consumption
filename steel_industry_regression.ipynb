{
  "nbformat": 4,
  "nbformat_minor": 0,
  "metadata": {
    "colab": {
      "name": "steel-industry-regression.ipynb",
      "provenance": [],
      "authorship_tag": "ABX9TyM1/ifBFwSwoIa7omPmLEz2",
      "include_colab_link": true
    },
    "kernelspec": {
      "name": "python3",
      "display_name": "Python 3"
    },
    "language_info": {
      "name": "python"
    }
  },
  "cells": [
    {
      "cell_type": "markdown",
      "metadata": {
        "id": "view-in-github",
        "colab_type": "text"
      },
      "source": [
        "<a href=\"https://colab.research.google.com/github/Saswata020/steel-industry-power-consumption/blob/main/steel_industry_regression.ipynb\" target=\"_parent\"><img src=\"https://colab.research.google.com/assets/colab-badge.svg\" alt=\"Open In Colab\"/></a>"
      ]
    },
    {
      "cell_type": "markdown",
      "source": [
        "## Business Problem\n",
        "\n",
        "Power saving stands for the ways and ideas through which it is possible to reduce the burden of delivering power at load end. With proper power-saving techniques, Industries can save millions of dollars spent on wasted energy, and utility companies can meet their power demands and can save the same energy cost.\n",
        "\n",
        "In this dataset, I will use mutilple linear regression to predict Industry Energy Consumption(in kWh). Many things in the predictor variables like weekend vs weekdays, low load vs high load , leading vs lagging current reactive power etc will be the dominant factors for this prediction analysis.Using this model, any energy industry can reduce their unnecessary energy consumption and increase their business revunues.\n",
        "\n",
        "\n",
        "### Data Set Information:\n",
        "\n",
        "https://archive.ics.uci.edu/ml//datasets/Steel+Industry+Energy+Consumption+Dataset\n",
        "\n",
        "The information gathered is from the DAEWOO Steel Co. Ltd in Gwangyang, South Korea. It produces several types of coils, steel plates, and iron plates. The information on electricity consumption is held in a cloud-based system. The information on energy consumption of the industry is stored on the website of the Korea Electric Power Corporation (pccs.kepco.go.kr), and the perspectives on daily, monthly, and annual data are calculated and shown.\n",
        "\n",
        "### Attribute Information:\n",
        "Date Continuous-time data taken on the first of the month\n",
        "\n",
        "Usage_kWh Industry Energy Consumption Continuous kWh\n",
        "\n",
        "Lagging Current reactive power Continuous kVarh\n",
        "\n",
        "Leading Current reactive power Continuous kVarh\n",
        "\n",
        "CO2 Continuous ppm\n",
        "\n",
        "NSM Number of Seconds from midnight Continuous S\n",
        "\n",
        "Week status Categorical (Weekend (0) or a Weekday(1))\n",
        "\n",
        "Day of week Categorical Sunday, Monday : Saturday\n",
        "\n",
        "Load Type Categorical Light Load, Medium Load, Maximum Load\n",
        "\n",
        "\n",
        "\n"
      ],
      "metadata": {
        "id": "0wxJWkPmQmyZ"
      }
    },
    {
      "cell_type": "markdown",
      "source": [
        "### Importing necessary libraries"
      ],
      "metadata": {
        "id": "SqrM1HaCRdem"
      }
    },
    {
      "cell_type": "code",
      "execution_count": 2,
      "metadata": {
        "id": "MU8YOBzbQl7s"
      },
      "outputs": [],
      "source": [
        "import numpy as np \n",
        "import pandas as pd\n",
        "import matplotlib.pyplot as plt\n",
        "import seaborn as sns\n",
        "import warnings\n",
        "import math\n",
        "\n",
        "from pylab import rcParams\n",
        "\n",
        "%matplotlib inline\n",
        "rcParams['figure.figsize'] = 15, 10\n",
        "warnings.filterwarnings('ignore')"
      ]
    },
    {
      "cell_type": "code",
      "source": [
        "from google.colab import drive\n",
        "drive.mount('/content/drive')"
      ],
      "metadata": {
        "colab": {
          "base_uri": "https://localhost:8080/"
        },
        "id": "leJvQqMeRtBz",
        "outputId": "0831c86e-2429-43ca-fb34-9961125e0ac4"
      },
      "execution_count": 3,
      "outputs": [
        {
          "output_type": "stream",
          "name": "stdout",
          "text": [
            "Mounted at /content/drive\n"
          ]
        }
      ]
    },
    {
      "cell_type": "code",
      "source": [
        "df=pd.read_csv('/content/drive/MyDrive/Colab Notebooks/PROJECTS/Steel_industry_data.csv')\n",
        "df.head(5)"
      ],
      "metadata": {
        "colab": {
          "base_uri": "https://localhost:8080/",
          "height": 357
        },
        "id": "Krey3SgSRt9o",
        "outputId": "70ce848e-512e-44e0-b596-10e54b44bb62"
      },
      "execution_count": 4,
      "outputs": [
        {
          "output_type": "execute_result",
          "data": {
            "text/plain": [
              "            date  Usage_kWh  Lagging_Current_Reactive.Power_kVarh  \\\n",
              "0  1/1/2018 0:15       3.17                                  2.95   \n",
              "1  1/1/2018 0:30       4.00                                  4.46   \n",
              "2  1/1/2018 0:45       3.24                                  3.28   \n",
              "3  1/1/2018 1:00       3.31                                  3.56   \n",
              "4  1/1/2018 1:15       3.82                                  4.50   \n",
              "\n",
              "   Leading_Current_Reactive_Power_kVarh  CO2(tCO2)  \\\n",
              "0                                   0.0        0.0   \n",
              "1                                   0.0        0.0   \n",
              "2                                   0.0        0.0   \n",
              "3                                   0.0        0.0   \n",
              "4                                   0.0        0.0   \n",
              "\n",
              "   Lagging_Current_Power_Factor  Leading_Current_Power_Factor   NSM  \\\n",
              "0                         73.21                         100.0   900   \n",
              "1                         66.77                         100.0  1800   \n",
              "2                         70.28                         100.0  2700   \n",
              "3                         68.09                         100.0  3600   \n",
              "4                         64.72                         100.0  4500   \n",
              "\n",
              "  WeekStatus Day_of_week   Load_Type  \n",
              "0    Weekday      Monday  Light_Load  \n",
              "1    Weekday      Monday  Light_Load  \n",
              "2    Weekday      Monday  Light_Load  \n",
              "3    Weekday      Monday  Light_Load  \n",
              "4    Weekday      Monday  Light_Load  "
            ],
            "text/html": [
              "\n",
              "  <div id=\"df-9eec10f2-41a3-4019-b9d0-4b3f1614d725\">\n",
              "    <div class=\"colab-df-container\">\n",
              "      <div>\n",
              "<style scoped>\n",
              "    .dataframe tbody tr th:only-of-type {\n",
              "        vertical-align: middle;\n",
              "    }\n",
              "\n",
              "    .dataframe tbody tr th {\n",
              "        vertical-align: top;\n",
              "    }\n",
              "\n",
              "    .dataframe thead th {\n",
              "        text-align: right;\n",
              "    }\n",
              "</style>\n",
              "<table border=\"1\" class=\"dataframe\">\n",
              "  <thead>\n",
              "    <tr style=\"text-align: right;\">\n",
              "      <th></th>\n",
              "      <th>date</th>\n",
              "      <th>Usage_kWh</th>\n",
              "      <th>Lagging_Current_Reactive.Power_kVarh</th>\n",
              "      <th>Leading_Current_Reactive_Power_kVarh</th>\n",
              "      <th>CO2(tCO2)</th>\n",
              "      <th>Lagging_Current_Power_Factor</th>\n",
              "      <th>Leading_Current_Power_Factor</th>\n",
              "      <th>NSM</th>\n",
              "      <th>WeekStatus</th>\n",
              "      <th>Day_of_week</th>\n",
              "      <th>Load_Type</th>\n",
              "    </tr>\n",
              "  </thead>\n",
              "  <tbody>\n",
              "    <tr>\n",
              "      <th>0</th>\n",
              "      <td>1/1/2018 0:15</td>\n",
              "      <td>3.17</td>\n",
              "      <td>2.95</td>\n",
              "      <td>0.0</td>\n",
              "      <td>0.0</td>\n",
              "      <td>73.21</td>\n",
              "      <td>100.0</td>\n",
              "      <td>900</td>\n",
              "      <td>Weekday</td>\n",
              "      <td>Monday</td>\n",
              "      <td>Light_Load</td>\n",
              "    </tr>\n",
              "    <tr>\n",
              "      <th>1</th>\n",
              "      <td>1/1/2018 0:30</td>\n",
              "      <td>4.00</td>\n",
              "      <td>4.46</td>\n",
              "      <td>0.0</td>\n",
              "      <td>0.0</td>\n",
              "      <td>66.77</td>\n",
              "      <td>100.0</td>\n",
              "      <td>1800</td>\n",
              "      <td>Weekday</td>\n",
              "      <td>Monday</td>\n",
              "      <td>Light_Load</td>\n",
              "    </tr>\n",
              "    <tr>\n",
              "      <th>2</th>\n",
              "      <td>1/1/2018 0:45</td>\n",
              "      <td>3.24</td>\n",
              "      <td>3.28</td>\n",
              "      <td>0.0</td>\n",
              "      <td>0.0</td>\n",
              "      <td>70.28</td>\n",
              "      <td>100.0</td>\n",
              "      <td>2700</td>\n",
              "      <td>Weekday</td>\n",
              "      <td>Monday</td>\n",
              "      <td>Light_Load</td>\n",
              "    </tr>\n",
              "    <tr>\n",
              "      <th>3</th>\n",
              "      <td>1/1/2018 1:00</td>\n",
              "      <td>3.31</td>\n",
              "      <td>3.56</td>\n",
              "      <td>0.0</td>\n",
              "      <td>0.0</td>\n",
              "      <td>68.09</td>\n",
              "      <td>100.0</td>\n",
              "      <td>3600</td>\n",
              "      <td>Weekday</td>\n",
              "      <td>Monday</td>\n",
              "      <td>Light_Load</td>\n",
              "    </tr>\n",
              "    <tr>\n",
              "      <th>4</th>\n",
              "      <td>1/1/2018 1:15</td>\n",
              "      <td>3.82</td>\n",
              "      <td>4.50</td>\n",
              "      <td>0.0</td>\n",
              "      <td>0.0</td>\n",
              "      <td>64.72</td>\n",
              "      <td>100.0</td>\n",
              "      <td>4500</td>\n",
              "      <td>Weekday</td>\n",
              "      <td>Monday</td>\n",
              "      <td>Light_Load</td>\n",
              "    </tr>\n",
              "  </tbody>\n",
              "</table>\n",
              "</div>\n",
              "      <button class=\"colab-df-convert\" onclick=\"convertToInteractive('df-9eec10f2-41a3-4019-b9d0-4b3f1614d725')\"\n",
              "              title=\"Convert this dataframe to an interactive table.\"\n",
              "              style=\"display:none;\">\n",
              "        \n",
              "  <svg xmlns=\"http://www.w3.org/2000/svg\" height=\"24px\"viewBox=\"0 0 24 24\"\n",
              "       width=\"24px\">\n",
              "    <path d=\"M0 0h24v24H0V0z\" fill=\"none\"/>\n",
              "    <path d=\"M18.56 5.44l.94 2.06.94-2.06 2.06-.94-2.06-.94-.94-2.06-.94 2.06-2.06.94zm-11 1L8.5 8.5l.94-2.06 2.06-.94-2.06-.94L8.5 2.5l-.94 2.06-2.06.94zm10 10l.94 2.06.94-2.06 2.06-.94-2.06-.94-.94-2.06-.94 2.06-2.06.94z\"/><path d=\"M17.41 7.96l-1.37-1.37c-.4-.4-.92-.59-1.43-.59-.52 0-1.04.2-1.43.59L10.3 9.45l-7.72 7.72c-.78.78-.78 2.05 0 2.83L4 21.41c.39.39.9.59 1.41.59.51 0 1.02-.2 1.41-.59l7.78-7.78 2.81-2.81c.8-.78.8-2.07 0-2.86zM5.41 20L4 18.59l7.72-7.72 1.47 1.35L5.41 20z\"/>\n",
              "  </svg>\n",
              "      </button>\n",
              "      \n",
              "  <style>\n",
              "    .colab-df-container {\n",
              "      display:flex;\n",
              "      flex-wrap:wrap;\n",
              "      gap: 12px;\n",
              "    }\n",
              "\n",
              "    .colab-df-convert {\n",
              "      background-color: #E8F0FE;\n",
              "      border: none;\n",
              "      border-radius: 50%;\n",
              "      cursor: pointer;\n",
              "      display: none;\n",
              "      fill: #1967D2;\n",
              "      height: 32px;\n",
              "      padding: 0 0 0 0;\n",
              "      width: 32px;\n",
              "    }\n",
              "\n",
              "    .colab-df-convert:hover {\n",
              "      background-color: #E2EBFA;\n",
              "      box-shadow: 0px 1px 2px rgba(60, 64, 67, 0.3), 0px 1px 3px 1px rgba(60, 64, 67, 0.15);\n",
              "      fill: #174EA6;\n",
              "    }\n",
              "\n",
              "    [theme=dark] .colab-df-convert {\n",
              "      background-color: #3B4455;\n",
              "      fill: #D2E3FC;\n",
              "    }\n",
              "\n",
              "    [theme=dark] .colab-df-convert:hover {\n",
              "      background-color: #434B5C;\n",
              "      box-shadow: 0px 1px 3px 1px rgba(0, 0, 0, 0.15);\n",
              "      filter: drop-shadow(0px 1px 2px rgba(0, 0, 0, 0.3));\n",
              "      fill: #FFFFFF;\n",
              "    }\n",
              "  </style>\n",
              "\n",
              "      <script>\n",
              "        const buttonEl =\n",
              "          document.querySelector('#df-9eec10f2-41a3-4019-b9d0-4b3f1614d725 button.colab-df-convert');\n",
              "        buttonEl.style.display =\n",
              "          google.colab.kernel.accessAllowed ? 'block' : 'none';\n",
              "\n",
              "        async function convertToInteractive(key) {\n",
              "          const element = document.querySelector('#df-9eec10f2-41a3-4019-b9d0-4b3f1614d725');\n",
              "          const dataTable =\n",
              "            await google.colab.kernel.invokeFunction('convertToInteractive',\n",
              "                                                     [key], {});\n",
              "          if (!dataTable) return;\n",
              "\n",
              "          const docLinkHtml = 'Like what you see? Visit the ' +\n",
              "            '<a target=\"_blank\" href=https://colab.research.google.com/notebooks/data_table.ipynb>data table notebook</a>'\n",
              "            + ' to learn more about interactive tables.';\n",
              "          element.innerHTML = '';\n",
              "          dataTable['output_type'] = 'display_data';\n",
              "          await google.colab.output.renderOutput(dataTable, element);\n",
              "          const docLink = document.createElement('div');\n",
              "          docLink.innerHTML = docLinkHtml;\n",
              "          element.appendChild(docLink);\n",
              "        }\n",
              "      </script>\n",
              "    </div>\n",
              "  </div>\n",
              "  "
            ]
          },
          "metadata": {},
          "execution_count": 4
        }
      ]
    },
    {
      "cell_type": "code",
      "source": [
        "df.shape"
      ],
      "metadata": {
        "colab": {
          "base_uri": "https://localhost:8080/"
        },
        "id": "PDpd0va1R6q_",
        "outputId": "a1d2efaf-1e59-465a-9d10-b37995017f9e"
      },
      "execution_count": 5,
      "outputs": [
        {
          "output_type": "execute_result",
          "data": {
            "text/plain": [
              "(35040, 11)"
            ]
          },
          "metadata": {},
          "execution_count": 5
        }
      ]
    },
    {
      "cell_type": "code",
      "source": [
        "df.info()"
      ],
      "metadata": {
        "colab": {
          "base_uri": "https://localhost:8080/"
        },
        "id": "-g0wBKeKSBbK",
        "outputId": "cc0f915c-cadb-4c59-e048-e263accb57cb"
      },
      "execution_count": 6,
      "outputs": [
        {
          "output_type": "stream",
          "name": "stdout",
          "text": [
            "<class 'pandas.core.frame.DataFrame'>\n",
            "RangeIndex: 35040 entries, 0 to 35039\n",
            "Data columns (total 11 columns):\n",
            " #   Column                                Non-Null Count  Dtype  \n",
            "---  ------                                --------------  -----  \n",
            " 0   date                                  35040 non-null  object \n",
            " 1   Usage_kWh                             35040 non-null  float64\n",
            " 2   Lagging_Current_Reactive.Power_kVarh  35040 non-null  float64\n",
            " 3   Leading_Current_Reactive_Power_kVarh  35040 non-null  float64\n",
            " 4   CO2(tCO2)                             35040 non-null  float64\n",
            " 5   Lagging_Current_Power_Factor          35040 non-null  float64\n",
            " 6   Leading_Current_Power_Factor          35040 non-null  float64\n",
            " 7   NSM                                   35040 non-null  int64  \n",
            " 8   WeekStatus                            35040 non-null  object \n",
            " 9   Day_of_week                           35040 non-null  object \n",
            " 10  Load_Type                             35040 non-null  object \n",
            "dtypes: float64(6), int64(1), object(4)\n",
            "memory usage: 2.9+ MB\n"
          ]
        }
      ]
    },
    {
      "cell_type": "code",
      "source": [
        "df.describe()"
      ],
      "metadata": {
        "colab": {
          "base_uri": "https://localhost:8080/",
          "height": 344
        },
        "id": "n2-wOvyTSDFQ",
        "outputId": "3291e6a2-337b-4268-a8f5-24222e6010e3"
      },
      "execution_count": 7,
      "outputs": [
        {
          "output_type": "execute_result",
          "data": {
            "text/plain": [
              "          Usage_kWh  Lagging_Current_Reactive.Power_kVarh  \\\n",
              "count  35040.000000                          35040.000000   \n",
              "mean      27.386892                             13.035384   \n",
              "std       33.444380                             16.306000   \n",
              "min        0.000000                              0.000000   \n",
              "25%        3.200000                              2.300000   \n",
              "50%        4.570000                              5.000000   \n",
              "75%       51.237500                             22.640000   \n",
              "max      157.180000                             96.910000   \n",
              "\n",
              "       Leading_Current_Reactive_Power_kVarh     CO2(tCO2)  \\\n",
              "count                          35040.000000  35040.000000   \n",
              "mean                               3.870949      0.011524   \n",
              "std                                7.424463      0.016151   \n",
              "min                                0.000000      0.000000   \n",
              "25%                                0.000000      0.000000   \n",
              "50%                                0.000000      0.000000   \n",
              "75%                                2.090000      0.020000   \n",
              "max                               27.760000      0.070000   \n",
              "\n",
              "       Lagging_Current_Power_Factor  Leading_Current_Power_Factor  \\\n",
              "count                  35040.000000                  35040.000000   \n",
              "mean                      80.578056                     84.367870   \n",
              "std                       18.921322                     30.456535   \n",
              "min                        0.000000                      0.000000   \n",
              "25%                       63.320000                     99.700000   \n",
              "50%                       87.960000                    100.000000   \n",
              "75%                       99.022500                    100.000000   \n",
              "max                      100.000000                    100.000000   \n",
              "\n",
              "                NSM  \n",
              "count  35040.000000  \n",
              "mean   42750.000000  \n",
              "std    24940.534317  \n",
              "min        0.000000  \n",
              "25%    21375.000000  \n",
              "50%    42750.000000  \n",
              "75%    64125.000000  \n",
              "max    85500.000000  "
            ],
            "text/html": [
              "\n",
              "  <div id=\"df-7f17cbb0-1ac1-40f8-9840-6d94438f0cb1\">\n",
              "    <div class=\"colab-df-container\">\n",
              "      <div>\n",
              "<style scoped>\n",
              "    .dataframe tbody tr th:only-of-type {\n",
              "        vertical-align: middle;\n",
              "    }\n",
              "\n",
              "    .dataframe tbody tr th {\n",
              "        vertical-align: top;\n",
              "    }\n",
              "\n",
              "    .dataframe thead th {\n",
              "        text-align: right;\n",
              "    }\n",
              "</style>\n",
              "<table border=\"1\" class=\"dataframe\">\n",
              "  <thead>\n",
              "    <tr style=\"text-align: right;\">\n",
              "      <th></th>\n",
              "      <th>Usage_kWh</th>\n",
              "      <th>Lagging_Current_Reactive.Power_kVarh</th>\n",
              "      <th>Leading_Current_Reactive_Power_kVarh</th>\n",
              "      <th>CO2(tCO2)</th>\n",
              "      <th>Lagging_Current_Power_Factor</th>\n",
              "      <th>Leading_Current_Power_Factor</th>\n",
              "      <th>NSM</th>\n",
              "    </tr>\n",
              "  </thead>\n",
              "  <tbody>\n",
              "    <tr>\n",
              "      <th>count</th>\n",
              "      <td>35040.000000</td>\n",
              "      <td>35040.000000</td>\n",
              "      <td>35040.000000</td>\n",
              "      <td>35040.000000</td>\n",
              "      <td>35040.000000</td>\n",
              "      <td>35040.000000</td>\n",
              "      <td>35040.000000</td>\n",
              "    </tr>\n",
              "    <tr>\n",
              "      <th>mean</th>\n",
              "      <td>27.386892</td>\n",
              "      <td>13.035384</td>\n",
              "      <td>3.870949</td>\n",
              "      <td>0.011524</td>\n",
              "      <td>80.578056</td>\n",
              "      <td>84.367870</td>\n",
              "      <td>42750.000000</td>\n",
              "    </tr>\n",
              "    <tr>\n",
              "      <th>std</th>\n",
              "      <td>33.444380</td>\n",
              "      <td>16.306000</td>\n",
              "      <td>7.424463</td>\n",
              "      <td>0.016151</td>\n",
              "      <td>18.921322</td>\n",
              "      <td>30.456535</td>\n",
              "      <td>24940.534317</td>\n",
              "    </tr>\n",
              "    <tr>\n",
              "      <th>min</th>\n",
              "      <td>0.000000</td>\n",
              "      <td>0.000000</td>\n",
              "      <td>0.000000</td>\n",
              "      <td>0.000000</td>\n",
              "      <td>0.000000</td>\n",
              "      <td>0.000000</td>\n",
              "      <td>0.000000</td>\n",
              "    </tr>\n",
              "    <tr>\n",
              "      <th>25%</th>\n",
              "      <td>3.200000</td>\n",
              "      <td>2.300000</td>\n",
              "      <td>0.000000</td>\n",
              "      <td>0.000000</td>\n",
              "      <td>63.320000</td>\n",
              "      <td>99.700000</td>\n",
              "      <td>21375.000000</td>\n",
              "    </tr>\n",
              "    <tr>\n",
              "      <th>50%</th>\n",
              "      <td>4.570000</td>\n",
              "      <td>5.000000</td>\n",
              "      <td>0.000000</td>\n",
              "      <td>0.000000</td>\n",
              "      <td>87.960000</td>\n",
              "      <td>100.000000</td>\n",
              "      <td>42750.000000</td>\n",
              "    </tr>\n",
              "    <tr>\n",
              "      <th>75%</th>\n",
              "      <td>51.237500</td>\n",
              "      <td>22.640000</td>\n",
              "      <td>2.090000</td>\n",
              "      <td>0.020000</td>\n",
              "      <td>99.022500</td>\n",
              "      <td>100.000000</td>\n",
              "      <td>64125.000000</td>\n",
              "    </tr>\n",
              "    <tr>\n",
              "      <th>max</th>\n",
              "      <td>157.180000</td>\n",
              "      <td>96.910000</td>\n",
              "      <td>27.760000</td>\n",
              "      <td>0.070000</td>\n",
              "      <td>100.000000</td>\n",
              "      <td>100.000000</td>\n",
              "      <td>85500.000000</td>\n",
              "    </tr>\n",
              "  </tbody>\n",
              "</table>\n",
              "</div>\n",
              "      <button class=\"colab-df-convert\" onclick=\"convertToInteractive('df-7f17cbb0-1ac1-40f8-9840-6d94438f0cb1')\"\n",
              "              title=\"Convert this dataframe to an interactive table.\"\n",
              "              style=\"display:none;\">\n",
              "        \n",
              "  <svg xmlns=\"http://www.w3.org/2000/svg\" height=\"24px\"viewBox=\"0 0 24 24\"\n",
              "       width=\"24px\">\n",
              "    <path d=\"M0 0h24v24H0V0z\" fill=\"none\"/>\n",
              "    <path d=\"M18.56 5.44l.94 2.06.94-2.06 2.06-.94-2.06-.94-.94-2.06-.94 2.06-2.06.94zm-11 1L8.5 8.5l.94-2.06 2.06-.94-2.06-.94L8.5 2.5l-.94 2.06-2.06.94zm10 10l.94 2.06.94-2.06 2.06-.94-2.06-.94-.94-2.06-.94 2.06-2.06.94z\"/><path d=\"M17.41 7.96l-1.37-1.37c-.4-.4-.92-.59-1.43-.59-.52 0-1.04.2-1.43.59L10.3 9.45l-7.72 7.72c-.78.78-.78 2.05 0 2.83L4 21.41c.39.39.9.59 1.41.59.51 0 1.02-.2 1.41-.59l7.78-7.78 2.81-2.81c.8-.78.8-2.07 0-2.86zM5.41 20L4 18.59l7.72-7.72 1.47 1.35L5.41 20z\"/>\n",
              "  </svg>\n",
              "      </button>\n",
              "      \n",
              "  <style>\n",
              "    .colab-df-container {\n",
              "      display:flex;\n",
              "      flex-wrap:wrap;\n",
              "      gap: 12px;\n",
              "    }\n",
              "\n",
              "    .colab-df-convert {\n",
              "      background-color: #E8F0FE;\n",
              "      border: none;\n",
              "      border-radius: 50%;\n",
              "      cursor: pointer;\n",
              "      display: none;\n",
              "      fill: #1967D2;\n",
              "      height: 32px;\n",
              "      padding: 0 0 0 0;\n",
              "      width: 32px;\n",
              "    }\n",
              "\n",
              "    .colab-df-convert:hover {\n",
              "      background-color: #E2EBFA;\n",
              "      box-shadow: 0px 1px 2px rgba(60, 64, 67, 0.3), 0px 1px 3px 1px rgba(60, 64, 67, 0.15);\n",
              "      fill: #174EA6;\n",
              "    }\n",
              "\n",
              "    [theme=dark] .colab-df-convert {\n",
              "      background-color: #3B4455;\n",
              "      fill: #D2E3FC;\n",
              "    }\n",
              "\n",
              "    [theme=dark] .colab-df-convert:hover {\n",
              "      background-color: #434B5C;\n",
              "      box-shadow: 0px 1px 3px 1px rgba(0, 0, 0, 0.15);\n",
              "      filter: drop-shadow(0px 1px 2px rgba(0, 0, 0, 0.3));\n",
              "      fill: #FFFFFF;\n",
              "    }\n",
              "  </style>\n",
              "\n",
              "      <script>\n",
              "        const buttonEl =\n",
              "          document.querySelector('#df-7f17cbb0-1ac1-40f8-9840-6d94438f0cb1 button.colab-df-convert');\n",
              "        buttonEl.style.display =\n",
              "          google.colab.kernel.accessAllowed ? 'block' : 'none';\n",
              "\n",
              "        async function convertToInteractive(key) {\n",
              "          const element = document.querySelector('#df-7f17cbb0-1ac1-40f8-9840-6d94438f0cb1');\n",
              "          const dataTable =\n",
              "            await google.colab.kernel.invokeFunction('convertToInteractive',\n",
              "                                                     [key], {});\n",
              "          if (!dataTable) return;\n",
              "\n",
              "          const docLinkHtml = 'Like what you see? Visit the ' +\n",
              "            '<a target=\"_blank\" href=https://colab.research.google.com/notebooks/data_table.ipynb>data table notebook</a>'\n",
              "            + ' to learn more about interactive tables.';\n",
              "          element.innerHTML = '';\n",
              "          dataTable['output_type'] = 'display_data';\n",
              "          await google.colab.output.renderOutput(dataTable, element);\n",
              "          const docLink = document.createElement('div');\n",
              "          docLink.innerHTML = docLinkHtml;\n",
              "          element.appendChild(docLink);\n",
              "        }\n",
              "      </script>\n",
              "    </div>\n",
              "  </div>\n",
              "  "
            ]
          },
          "metadata": {},
          "execution_count": 7
        }
      ]
    },
    {
      "cell_type": "code",
      "source": [
        "#rename attribute\n",
        "df = df.rename(columns = {'Lagging_Current_Reactive.Power_kVarh' : 'Lagging_Current_Reactive_Power_kVarh', \n",
        "                          'CO2(tCO2)' : 'CO2'})"
      ],
      "metadata": {
        "id": "M9LLk5csSE2v"
      },
      "execution_count": 8,
      "outputs": []
    },
    {
      "cell_type": "code",
      "source": [
        "df.corr()"
      ],
      "metadata": {
        "colab": {
          "base_uri": "https://localhost:8080/",
          "height": 333
        },
        "id": "1fnjmy1xSHd-",
        "outputId": "d37ac2d4-8c0b-4327-e07f-19526bd1dd5f"
      },
      "execution_count": 9,
      "outputs": [
        {
          "output_type": "execute_result",
          "data": {
            "text/plain": [
              "                                      Usage_kWh  \\\n",
              "Usage_kWh                              1.000000   \n",
              "Lagging_Current_Reactive_Power_kVarh   0.896150   \n",
              "Leading_Current_Reactive_Power_kVarh  -0.324922   \n",
              "CO2                                    0.988180   \n",
              "Lagging_Current_Power_Factor           0.385960   \n",
              "Leading_Current_Power_Factor           0.353566   \n",
              "NSM                                    0.234610   \n",
              "\n",
              "                                      Lagging_Current_Reactive_Power_kVarh  \\\n",
              "Usage_kWh                                                         0.896150   \n",
              "Lagging_Current_Reactive_Power_kVarh                              1.000000   \n",
              "Leading_Current_Reactive_Power_kVarh                             -0.405142   \n",
              "CO2                                                               0.886948   \n",
              "Lagging_Current_Power_Factor                                      0.144534   \n",
              "Leading_Current_Power_Factor                                      0.407716   \n",
              "NSM                                                               0.082662   \n",
              "\n",
              "                                      Leading_Current_Reactive_Power_kVarh  \\\n",
              "Usage_kWh                                                        -0.324922   \n",
              "Lagging_Current_Reactive_Power_kVarh                             -0.405142   \n",
              "Leading_Current_Reactive_Power_kVarh                              1.000000   \n",
              "CO2                                                              -0.332777   \n",
              "Lagging_Current_Power_Factor                                      0.526770   \n",
              "Leading_Current_Power_Factor                                     -0.944039   \n",
              "NSM                                                               0.371605   \n",
              "\n",
              "                                           CO2  Lagging_Current_Power_Factor  \\\n",
              "Usage_kWh                             0.988180                      0.385960   \n",
              "Lagging_Current_Reactive_Power_kVarh  0.886948                      0.144534   \n",
              "Leading_Current_Reactive_Power_kVarh -0.332777                      0.526770   \n",
              "CO2                                   1.000000                      0.379605   \n",
              "Lagging_Current_Power_Factor          0.379605                      1.000000   \n",
              "Leading_Current_Power_Factor          0.360019                     -0.519967   \n",
              "NSM                                   0.231726                      0.565270   \n",
              "\n",
              "                                      Leading_Current_Power_Factor       NSM  \n",
              "Usage_kWh                                                 0.353566  0.234610  \n",
              "Lagging_Current_Reactive_Power_kVarh                      0.407716  0.082662  \n",
              "Leading_Current_Reactive_Power_kVarh                     -0.944039  0.371605  \n",
              "CO2                                                       0.360019  0.231726  \n",
              "Lagging_Current_Power_Factor                             -0.519967  0.565270  \n",
              "Leading_Current_Power_Factor                              1.000000 -0.360563  \n",
              "NSM                                                      -0.360563  1.000000  "
            ],
            "text/html": [
              "\n",
              "  <div id=\"df-63b32019-5b07-4708-b494-032ffa831283\">\n",
              "    <div class=\"colab-df-container\">\n",
              "      <div>\n",
              "<style scoped>\n",
              "    .dataframe tbody tr th:only-of-type {\n",
              "        vertical-align: middle;\n",
              "    }\n",
              "\n",
              "    .dataframe tbody tr th {\n",
              "        vertical-align: top;\n",
              "    }\n",
              "\n",
              "    .dataframe thead th {\n",
              "        text-align: right;\n",
              "    }\n",
              "</style>\n",
              "<table border=\"1\" class=\"dataframe\">\n",
              "  <thead>\n",
              "    <tr style=\"text-align: right;\">\n",
              "      <th></th>\n",
              "      <th>Usage_kWh</th>\n",
              "      <th>Lagging_Current_Reactive_Power_kVarh</th>\n",
              "      <th>Leading_Current_Reactive_Power_kVarh</th>\n",
              "      <th>CO2</th>\n",
              "      <th>Lagging_Current_Power_Factor</th>\n",
              "      <th>Leading_Current_Power_Factor</th>\n",
              "      <th>NSM</th>\n",
              "    </tr>\n",
              "  </thead>\n",
              "  <tbody>\n",
              "    <tr>\n",
              "      <th>Usage_kWh</th>\n",
              "      <td>1.000000</td>\n",
              "      <td>0.896150</td>\n",
              "      <td>-0.324922</td>\n",
              "      <td>0.988180</td>\n",
              "      <td>0.385960</td>\n",
              "      <td>0.353566</td>\n",
              "      <td>0.234610</td>\n",
              "    </tr>\n",
              "    <tr>\n",
              "      <th>Lagging_Current_Reactive_Power_kVarh</th>\n",
              "      <td>0.896150</td>\n",
              "      <td>1.000000</td>\n",
              "      <td>-0.405142</td>\n",
              "      <td>0.886948</td>\n",
              "      <td>0.144534</td>\n",
              "      <td>0.407716</td>\n",
              "      <td>0.082662</td>\n",
              "    </tr>\n",
              "    <tr>\n",
              "      <th>Leading_Current_Reactive_Power_kVarh</th>\n",
              "      <td>-0.324922</td>\n",
              "      <td>-0.405142</td>\n",
              "      <td>1.000000</td>\n",
              "      <td>-0.332777</td>\n",
              "      <td>0.526770</td>\n",
              "      <td>-0.944039</td>\n",
              "      <td>0.371605</td>\n",
              "    </tr>\n",
              "    <tr>\n",
              "      <th>CO2</th>\n",
              "      <td>0.988180</td>\n",
              "      <td>0.886948</td>\n",
              "      <td>-0.332777</td>\n",
              "      <td>1.000000</td>\n",
              "      <td>0.379605</td>\n",
              "      <td>0.360019</td>\n",
              "      <td>0.231726</td>\n",
              "    </tr>\n",
              "    <tr>\n",
              "      <th>Lagging_Current_Power_Factor</th>\n",
              "      <td>0.385960</td>\n",
              "      <td>0.144534</td>\n",
              "      <td>0.526770</td>\n",
              "      <td>0.379605</td>\n",
              "      <td>1.000000</td>\n",
              "      <td>-0.519967</td>\n",
              "      <td>0.565270</td>\n",
              "    </tr>\n",
              "    <tr>\n",
              "      <th>Leading_Current_Power_Factor</th>\n",
              "      <td>0.353566</td>\n",
              "      <td>0.407716</td>\n",
              "      <td>-0.944039</td>\n",
              "      <td>0.360019</td>\n",
              "      <td>-0.519967</td>\n",
              "      <td>1.000000</td>\n",
              "      <td>-0.360563</td>\n",
              "    </tr>\n",
              "    <tr>\n",
              "      <th>NSM</th>\n",
              "      <td>0.234610</td>\n",
              "      <td>0.082662</td>\n",
              "      <td>0.371605</td>\n",
              "      <td>0.231726</td>\n",
              "      <td>0.565270</td>\n",
              "      <td>-0.360563</td>\n",
              "      <td>1.000000</td>\n",
              "    </tr>\n",
              "  </tbody>\n",
              "</table>\n",
              "</div>\n",
              "      <button class=\"colab-df-convert\" onclick=\"convertToInteractive('df-63b32019-5b07-4708-b494-032ffa831283')\"\n",
              "              title=\"Convert this dataframe to an interactive table.\"\n",
              "              style=\"display:none;\">\n",
              "        \n",
              "  <svg xmlns=\"http://www.w3.org/2000/svg\" height=\"24px\"viewBox=\"0 0 24 24\"\n",
              "       width=\"24px\">\n",
              "    <path d=\"M0 0h24v24H0V0z\" fill=\"none\"/>\n",
              "    <path d=\"M18.56 5.44l.94 2.06.94-2.06 2.06-.94-2.06-.94-.94-2.06-.94 2.06-2.06.94zm-11 1L8.5 8.5l.94-2.06 2.06-.94-2.06-.94L8.5 2.5l-.94 2.06-2.06.94zm10 10l.94 2.06.94-2.06 2.06-.94-2.06-.94-.94-2.06-.94 2.06-2.06.94z\"/><path d=\"M17.41 7.96l-1.37-1.37c-.4-.4-.92-.59-1.43-.59-.52 0-1.04.2-1.43.59L10.3 9.45l-7.72 7.72c-.78.78-.78 2.05 0 2.83L4 21.41c.39.39.9.59 1.41.59.51 0 1.02-.2 1.41-.59l7.78-7.78 2.81-2.81c.8-.78.8-2.07 0-2.86zM5.41 20L4 18.59l7.72-7.72 1.47 1.35L5.41 20z\"/>\n",
              "  </svg>\n",
              "      </button>\n",
              "      \n",
              "  <style>\n",
              "    .colab-df-container {\n",
              "      display:flex;\n",
              "      flex-wrap:wrap;\n",
              "      gap: 12px;\n",
              "    }\n",
              "\n",
              "    .colab-df-convert {\n",
              "      background-color: #E8F0FE;\n",
              "      border: none;\n",
              "      border-radius: 50%;\n",
              "      cursor: pointer;\n",
              "      display: none;\n",
              "      fill: #1967D2;\n",
              "      height: 32px;\n",
              "      padding: 0 0 0 0;\n",
              "      width: 32px;\n",
              "    }\n",
              "\n",
              "    .colab-df-convert:hover {\n",
              "      background-color: #E2EBFA;\n",
              "      box-shadow: 0px 1px 2px rgba(60, 64, 67, 0.3), 0px 1px 3px 1px rgba(60, 64, 67, 0.15);\n",
              "      fill: #174EA6;\n",
              "    }\n",
              "\n",
              "    [theme=dark] .colab-df-convert {\n",
              "      background-color: #3B4455;\n",
              "      fill: #D2E3FC;\n",
              "    }\n",
              "\n",
              "    [theme=dark] .colab-df-convert:hover {\n",
              "      background-color: #434B5C;\n",
              "      box-shadow: 0px 1px 3px 1px rgba(0, 0, 0, 0.15);\n",
              "      filter: drop-shadow(0px 1px 2px rgba(0, 0, 0, 0.3));\n",
              "      fill: #FFFFFF;\n",
              "    }\n",
              "  </style>\n",
              "\n",
              "      <script>\n",
              "        const buttonEl =\n",
              "          document.querySelector('#df-63b32019-5b07-4708-b494-032ffa831283 button.colab-df-convert');\n",
              "        buttonEl.style.display =\n",
              "          google.colab.kernel.accessAllowed ? 'block' : 'none';\n",
              "\n",
              "        async function convertToInteractive(key) {\n",
              "          const element = document.querySelector('#df-63b32019-5b07-4708-b494-032ffa831283');\n",
              "          const dataTable =\n",
              "            await google.colab.kernel.invokeFunction('convertToInteractive',\n",
              "                                                     [key], {});\n",
              "          if (!dataTable) return;\n",
              "\n",
              "          const docLinkHtml = 'Like what you see? Visit the ' +\n",
              "            '<a target=\"_blank\" href=https://colab.research.google.com/notebooks/data_table.ipynb>data table notebook</a>'\n",
              "            + ' to learn more about interactive tables.';\n",
              "          element.innerHTML = '';\n",
              "          dataTable['output_type'] = 'display_data';\n",
              "          await google.colab.output.renderOutput(dataTable, element);\n",
              "          const docLink = document.createElement('div');\n",
              "          docLink.innerHTML = docLinkHtml;\n",
              "          element.appendChild(docLink);\n",
              "        }\n",
              "      </script>\n",
              "    </div>\n",
              "  </div>\n",
              "  "
            ]
          },
          "metadata": {},
          "execution_count": 9
        }
      ]
    },
    {
      "cell_type": "code",
      "source": [
        "#visualize the correlation using pearson correlation\n",
        "sns.heatmap(df.corr(), annot = True, cmap = 'YlGnBu')\n",
        "plt.title(\"Pearson Correlation\", fontsize = 15, color = 'b', pad = 12, loc = 'center')\n",
        "plt.show()"
      ],
      "metadata": {
        "colab": {
          "base_uri": "https://localhost:8080/",
          "height": 804
        },
        "id": "j9X6MCAeSJDs",
        "outputId": "0e95c9d6-4447-4af3-a9ea-3d16ca1af3c5"
      },
      "execution_count": 10,
      "outputs": [
        {
          "output_type": "display_data",
          "data": {
            "text/plain": [
              "<Figure size 1080x720 with 2 Axes>"
            ],
            "image/png": "[encoded data removed]"
          },
          "metadata": {
            "needs_background": "light"
          }
        }
      ]
    },
    {
      "cell_type": "code",
      "source": [
        "#analyze the most energy consumption based on time\n",
        "most_energy_consumption = pd.pivot_table(df, index = 'date', values = 'Usage_kWh', aggfunc = {'Usage_kWh' : np.max})\n",
        "most_energy_consumption.head(10)"
      ],
      "metadata": {
        "colab": {
          "base_uri": "https://localhost:8080/",
          "height": 394
        },
        "id": "sLkthYBZSLAt",
        "outputId": "2a0473dd-571e-4b30-a2d1-3c111b173d91"
      },
      "execution_count": 11,
      "outputs": [
        {
          "output_type": "execute_result",
          "data": {
            "text/plain": [
              "                Usage_kWh\n",
              "date                     \n",
              "1/1/2018 0:00        3.42\n",
              "1/1/2018 0:15        3.17\n",
              "1/1/2018 0:30        4.00\n",
              "1/1/2018 0:45        3.24\n",
              "1/1/2018 10:00       3.64\n",
              "1/1/2018 10:15       4.07\n",
              "1/1/2018 10:30       3.71\n",
              "1/1/2018 10:45       3.60\n",
              "1/1/2018 11:00       4.21\n",
              "1/1/2018 11:15       3.49"
            ],
            "text/html": [
              "\n",
              "  <div id=\"df-d1ba907c-f846-4b2f-9b2b-f698ae2499b8\">\n",
              "    <div class=\"colab-df-container\">\n",
              "      <div>\n",
              "<style scoped>\n",
              "    .dataframe tbody tr th:only-of-type {\n",
              "        vertical-align: middle;\n",
              "    }\n",
              "\n",
              "    .dataframe tbody tr th {\n",
              "        vertical-align: top;\n",
              "    }\n",
              "\n",
              "    .dataframe thead th {\n",
              "        text-align: right;\n",
              "    }\n",
              "</style>\n",
              "<table border=\"1\" class=\"dataframe\">\n",
              "  <thead>\n",
              "    <tr style=\"text-align: right;\">\n",
              "      <th></th>\n",
              "      <th>Usage_kWh</th>\n",
              "    </tr>\n",
              "    <tr>\n",
              "      <th>date</th>\n",
              "      <th></th>\n",
              "    </tr>\n",
              "  </thead>\n",
              "  <tbody>\n",
              "    <tr>\n",
              "      <th>1/1/2018 0:00</th>\n",
              "      <td>3.42</td>\n",
              "    </tr>\n",
              "    <tr>\n",
              "      <th>1/1/2018 0:15</th>\n",
              "      <td>3.17</td>\n",
              "    </tr>\n",
              "    <tr>\n",
              "      <th>1/1/2018 0:30</th>\n",
              "      <td>4.00</td>\n",
              "    </tr>\n",
              "    <tr>\n",
              "      <th>1/1/2018 0:45</th>\n",
              "      <td>3.24</td>\n",
              "    </tr>\n",
              "    <tr>\n",
              "      <th>1/1/2018 10:00</th>\n",
              "      <td>3.64</td>\n",
              "    </tr>\n",
              "    <tr>\n",
              "      <th>1/1/2018 10:15</th>\n",
              "      <td>4.07</td>\n",
              "    </tr>\n",
              "    <tr>\n",
              "      <th>1/1/2018 10:30</th>\n",
              "      <td>3.71</td>\n",
              "    </tr>\n",
              "    <tr>\n",
              "      <th>1/1/2018 10:45</th>\n",
              "      <td>3.60</td>\n",
              "    </tr>\n",
              "    <tr>\n",
              "      <th>1/1/2018 11:00</th>\n",
              "      <td>4.21</td>\n",
              "    </tr>\n",
              "    <tr>\n",
              "      <th>1/1/2018 11:15</th>\n",
              "      <td>3.49</td>\n",
              "    </tr>\n",
              "  </tbody>\n",
              "</table>\n",
              "</div>\n",
              "      <button class=\"colab-df-convert\" onclick=\"convertToInteractive('df-d1ba907c-f846-4b2f-9b2b-f698ae2499b8')\"\n",
              "              title=\"Convert this dataframe to an interactive table.\"\n",
              "              style=\"display:none;\">\n",
              "        \n",
              "  <svg xmlns=\"http://www.w3.org/2000/svg\" height=\"24px\"viewBox=\"0 0 24 24\"\n",
              "       width=\"24px\">\n",
              "    <path d=\"M0 0h24v24H0V0z\" fill=\"none\"/>\n",
              "    <path d=\"M18.56 5.44l.94 2.06.94-2.06 2.06-.94-2.06-.94-.94-2.06-.94 2.06-2.06.94zm-11 1L8.5 8.5l.94-2.06 2.06-.94-2.06-.94L8.5 2.5l-.94 2.06-2.06.94zm10 10l.94 2.06.94-2.06 2.06-.94-2.06-.94-.94-2.06-.94 2.06-2.06.94z\"/><path d=\"M17.41 7.96l-1.37-1.37c-.4-.4-.92-.59-1.43-.59-.52 0-1.04.2-1.43.59L10.3 9.45l-7.72 7.72c-.78.78-.78 2.05 0 2.83L4 21.41c.39.39.9.59 1.41.59.51 0 1.02-.2 1.41-.59l7.78-7.78 2.81-2.81c.8-.78.8-2.07 0-2.86zM5.41 20L4 18.59l7.72-7.72 1.47 1.35L5.41 20z\"/>\n",
              "  </svg>\n",
              "      </button>\n",
              "      \n",
              "  <style>\n",
              "    .colab-df-container {\n",
              "      display:flex;\n",
              "      flex-wrap:wrap;\n",
              "      gap: 12px;\n",
              "    }\n",
              "\n",
              "    .colab-df-convert {\n",
              "      background-color: #E8F0FE;\n",
              "      border: none;\n",
              "      border-radius: 50%;\n",
              "      cursor: pointer;\n",
              "      display: none;\n",
              "      fill: #1967D2;\n",
              "      height: 32px;\n",
              "      padding: 0 0 0 0;\n",
              "      width: 32px;\n",
              "    }\n",
              "\n",
              "    .colab-df-convert:hover {\n",
              "      background-color: #E2EBFA;\n",
              "      box-shadow: 0px 1px 2px rgba(60, 64, 67, 0.3), 0px 1px 3px 1px rgba(60, 64, 67, 0.15);\n",
              "      fill: #174EA6;\n",
              "    }\n",
              "\n",
              "    [theme=dark] .colab-df-convert {\n",
              "      background-color: #3B4455;\n",
              "      fill: #D2E3FC;\n",
              "    }\n",
              "\n",
              "    [theme=dark] .colab-df-convert:hover {\n",
              "      background-color: #434B5C;\n",
              "      box-shadow: 0px 1px 3px 1px rgba(0, 0, 0, 0.15);\n",
              "      filter: drop-shadow(0px 1px 2px rgba(0, 0, 0, 0.3));\n",
              "      fill: #FFFFFF;\n",
              "    }\n",
              "  </style>\n",
              "\n",
              "      <script>\n",
              "        const buttonEl =\n",
              "          document.querySelector('#df-d1ba907c-f846-4b2f-9b2b-f698ae2499b8 button.colab-df-convert');\n",
              "        buttonEl.style.display =\n",
              "          google.colab.kernel.accessAllowed ? 'block' : 'none';\n",
              "\n",
              "        async function convertToInteractive(key) {\n",
              "          const element = document.querySelector('#df-d1ba907c-f846-4b2f-9b2b-f698ae2499b8');\n",
              "          const dataTable =\n",
              "            await google.colab.kernel.invokeFunction('convertToInteractive',\n",
              "                                                     [key], {});\n",
              "          if (!dataTable) return;\n",
              "\n",
              "          const docLinkHtml = 'Like what you see? Visit the ' +\n",
              "            '<a target=\"_blank\" href=https://colab.research.google.com/notebooks/data_table.ipynb>data table notebook</a>'\n",
              "            + ' to learn more about interactive tables.';\n",
              "          element.innerHTML = '';\n",
              "          dataTable['output_type'] = 'display_data';\n",
              "          await google.colab.output.renderOutput(dataTable, element);\n",
              "          const docLink = document.createElement('div');\n",
              "          docLink.innerHTML = docLinkHtml;\n",
              "          element.appendChild(docLink);\n",
              "        }\n",
              "      </script>\n",
              "    </div>\n",
              "  </div>\n",
              "  "
            ]
          },
          "metadata": {},
          "execution_count": 11
        }
      ]
    },
    {
      "cell_type": "code",
      "source": [
        "most_energy_consumption.tail()\n"
      ],
      "metadata": {
        "colab": {
          "base_uri": "https://localhost:8080/",
          "height": 237
        },
        "id": "1pxgSjP0SNul",
        "outputId": "69ff98af-f31d-4c82-eca3-8dbd016f2e72"
      },
      "execution_count": 12,
      "outputs": [
        {
          "output_type": "execute_result",
          "data": {
            "text/plain": [
              "               Usage_kWh\n",
              "date                    \n",
              "9/9/2018 8:45       8.53\n",
              "9/9/2018 9:00      10.55\n",
              "9/9/2018 9:15      10.22\n",
              "9/9/2018 9:30      10.98\n",
              "9/9/2018 9:45      11.45"
            ],
            "text/html": [
              "\n",
              "  <div id=\"df-ea4196f2-0c41-4fdc-b709-100dc83d3a7a\">\n",
              "    <div class=\"colab-df-container\">\n",
              "      <div>\n",
              "<style scoped>\n",
              "    .dataframe tbody tr th:only-of-type {\n",
              "        vertical-align: middle;\n",
              "    }\n",
              "\n",
              "    .dataframe tbody tr th {\n",
              "        vertical-align: top;\n",
              "    }\n",
              "\n",
              "    .dataframe thead th {\n",
              "        text-align: right;\n",
              "    }\n",
              "</style>\n",
              "<table border=\"1\" class=\"dataframe\">\n",
              "  <thead>\n",
              "    <tr style=\"text-align: right;\">\n",
              "      <th></th>\n",
              "      <th>Usage_kWh</th>\n",
              "    </tr>\n",
              "    <tr>\n",
              "      <th>date</th>\n",
              "      <th></th>\n",
              "    </tr>\n",
              "  </thead>\n",
              "  <tbody>\n",
              "    <tr>\n",
              "      <th>9/9/2018 8:45</th>\n",
              "      <td>8.53</td>\n",
              "    </tr>\n",
              "    <tr>\n",
              "      <th>9/9/2018 9:00</th>\n",
              "      <td>10.55</td>\n",
              "    </tr>\n",
              "    <tr>\n",
              "      <th>9/9/2018 9:15</th>\n",
              "      <td>10.22</td>\n",
              "    </tr>\n",
              "    <tr>\n",
              "      <th>9/9/2018 9:30</th>\n",
              "      <td>10.98</td>\n",
              "    </tr>\n",
              "    <tr>\n",
              "      <th>9/9/2018 9:45</th>\n",
              "      <td>11.45</td>\n",
              "    </tr>\n",
              "  </tbody>\n",
              "</table>\n",
              "</div>\n",
              "      <button class=\"colab-df-convert\" onclick=\"convertToInteractive('df-ea4196f2-0c41-4fdc-b709-100dc83d3a7a')\"\n",
              "              title=\"Convert this dataframe to an interactive table.\"\n",
              "              style=\"display:none;\">\n",
              "        \n",
              "  <svg xmlns=\"http://www.w3.org/2000/svg\" height=\"24px\"viewBox=\"0 0 24 24\"\n",
              "       width=\"24px\">\n",
              "    <path d=\"M0 0h24v24H0V0z\" fill=\"none\"/>\n",
              "    <path d=\"M18.56 5.44l.94 2.06.94-2.06 2.06-.94-2.06-.94-.94-2.06-.94 2.06-2.06.94zm-11 1L8.5 8.5l.94-2.06 2.06-.94-2.06-.94L8.5 2.5l-.94 2.06-2.06.94zm10 10l.94 2.06.94-2.06 2.06-.94-2.06-.94-.94-2.06-.94 2.06-2.06.94z\"/><path d=\"M17.41 7.96l-1.37-1.37c-.4-.4-.92-.59-1.43-.59-.52 0-1.04.2-1.43.59L10.3 9.45l-7.72 7.72c-.78.78-.78 2.05 0 2.83L4 21.41c.39.39.9.59 1.41.59.51 0 1.02-.2 1.41-.59l7.78-7.78 2.81-2.81c.8-.78.8-2.07 0-2.86zM5.41 20L4 18.59l7.72-7.72 1.47 1.35L5.41 20z\"/>\n",
              "  </svg>\n",
              "      </button>\n",
              "      \n",
              "  <style>\n",
              "    .colab-df-container {\n",
              "      display:flex;\n",
              "      flex-wrap:wrap;\n",
              "      gap: 12px;\n",
              "    }\n",
              "\n",
              "    .colab-df-convert {\n",
              "      background-color: #E8F0FE;\n",
              "      border: none;\n",
              "      border-radius: 50%;\n",
              "      cursor: pointer;\n",
              "      display: none;\n",
              "      fill: #1967D2;\n",
              "      height: 32px;\n",
              "      padding: 0 0 0 0;\n",
              "      width: 32px;\n",
              "    }\n",
              "\n",
              "    .colab-df-convert:hover {\n",
              "      background-color: #E2EBFA;\n",
              "      box-shadow: 0px 1px 2px rgba(60, 64, 67, 0.3), 0px 1px 3px 1px rgba(60, 64, 67, 0.15);\n",
              "      fill: #174EA6;\n",
              "    }\n",
              "\n",
              "    [theme=dark] .colab-df-convert {\n",
              "      background-color: #3B4455;\n",
              "      fill: #D2E3FC;\n",
              "    }\n",
              "\n",
              "    [theme=dark] .colab-df-convert:hover {\n",
              "      background-color: #434B5C;\n",
              "      box-shadow: 0px 1px 3px 1px rgba(0, 0, 0, 0.15);\n",
              "      filter: drop-shadow(0px 1px 2px rgba(0, 0, 0, 0.3));\n",
              "      fill: #FFFFFF;\n",
              "    }\n",
              "  </style>\n",
              "\n",
              "      <script>\n",
              "        const buttonEl =\n",
              "          document.querySelector('#df-ea4196f2-0c41-4fdc-b709-100dc83d3a7a button.colab-df-convert');\n",
              "        buttonEl.style.display =\n",
              "          google.colab.kernel.accessAllowed ? 'block' : 'none';\n",
              "\n",
              "        async function convertToInteractive(key) {\n",
              "          const element = document.querySelector('#df-ea4196f2-0c41-4fdc-b709-100dc83d3a7a');\n",
              "          const dataTable =\n",
              "            await google.colab.kernel.invokeFunction('convertToInteractive',\n",
              "                                                     [key], {});\n",
              "          if (!dataTable) return;\n",
              "\n",
              "          const docLinkHtml = 'Like what you see? Visit the ' +\n",
              "            '<a target=\"_blank\" href=https://colab.research.google.com/notebooks/data_table.ipynb>data table notebook</a>'\n",
              "            + ' to learn more about interactive tables.';\n",
              "          element.innerHTML = '';\n",
              "          dataTable['output_type'] = 'display_data';\n",
              "          await google.colab.output.renderOutput(dataTable, element);\n",
              "          const docLink = document.createElement('div');\n",
              "          docLink.innerHTML = docLinkHtml;\n",
              "          element.appendChild(docLink);\n",
              "        }\n",
              "      </script>\n",
              "    </div>\n",
              "  </div>\n",
              "  "
            ]
          },
          "metadata": {},
          "execution_count": 12
        }
      ]
    },
    {
      "cell_type": "code",
      "source": [
        "most_energy_consumption.shape"
      ],
      "metadata": {
        "colab": {
          "base_uri": "https://localhost:8080/"
        },
        "id": "EexFRU31SQuk",
        "outputId": "1f8a976a-3b2b-4747-b409-9eb4f1929123"
      },
      "execution_count": 13,
      "outputs": [
        {
          "output_type": "execute_result",
          "data": {
            "text/plain": [
              "(35040, 1)"
            ]
          },
          "metadata": {},
          "execution_count": 13
        }
      ]
    },
    {
      "cell_type": "code",
      "source": [
        "most_energy_consumption = pd.pivot_table(df, index = 'date', values = 'Usage_kWh', aggfunc = {'Usage_kWh' : np.mean})\n",
        "most_energy_consumption.head()"
      ],
      "metadata": {
        "colab": {
          "base_uri": "https://localhost:8080/",
          "height": 237
        },
        "id": "o9b-ryntSV_W",
        "outputId": "e5bc4658-ed59-4260-ea19-36f568a515e3"
      },
      "execution_count": 14,
      "outputs": [
        {
          "output_type": "execute_result",
          "data": {
            "text/plain": [
              "                Usage_kWh\n",
              "date                     \n",
              "1/1/2018 0:00        3.42\n",
              "1/1/2018 0:15        3.17\n",
              "1/1/2018 0:30        4.00\n",
              "1/1/2018 0:45        3.24\n",
              "1/1/2018 10:00       3.64"
            ],
            "text/html": [
              "\n",
              "  <div id=\"df-51fc75c1-9c30-4293-ad82-2a2cc8231d31\">\n",
              "    <div class=\"colab-df-container\">\n",
              "      <div>\n",
              "<style scoped>\n",
              "    .dataframe tbody tr th:only-of-type {\n",
              "        vertical-align: middle;\n",
              "    }\n",
              "\n",
              "    .dataframe tbody tr th {\n",
              "        vertical-align: top;\n",
              "    }\n",
              "\n",
              "    .dataframe thead th {\n",
              "        text-align: right;\n",
              "    }\n",
              "</style>\n",
              "<table border=\"1\" class=\"dataframe\">\n",
              "  <thead>\n",
              "    <tr style=\"text-align: right;\">\n",
              "      <th></th>\n",
              "      <th>Usage_kWh</th>\n",
              "    </tr>\n",
              "    <tr>\n",
              "      <th>date</th>\n",
              "      <th></th>\n",
              "    </tr>\n",
              "  </thead>\n",
              "  <tbody>\n",
              "    <tr>\n",
              "      <th>1/1/2018 0:00</th>\n",
              "      <td>3.42</td>\n",
              "    </tr>\n",
              "    <tr>\n",
              "      <th>1/1/2018 0:15</th>\n",
              "      <td>3.17</td>\n",
              "    </tr>\n",
              "    <tr>\n",
              "      <th>1/1/2018 0:30</th>\n",
              "      <td>4.00</td>\n",
              "    </tr>\n",
              "    <tr>\n",
              "      <th>1/1/2018 0:45</th>\n",
              "      <td>3.24</td>\n",
              "    </tr>\n",
              "    <tr>\n",
              "      <th>1/1/2018 10:00</th>\n",
              "      <td>3.64</td>\n",
              "    </tr>\n",
              "  </tbody>\n",
              "</table>\n",
              "</div>\n",
              "      <button class=\"colab-df-convert\" onclick=\"convertToInteractive('df-51fc75c1-9c30-4293-ad82-2a2cc8231d31')\"\n",
              "              title=\"Convert this dataframe to an interactive table.\"\n",
              "              style=\"display:none;\">\n",
              "        \n",
              "  <svg xmlns=\"http://www.w3.org/2000/svg\" height=\"24px\"viewBox=\"0 0 24 24\"\n",
              "       width=\"24px\">\n",
              "    <path d=\"M0 0h24v24H0V0z\" fill=\"none\"/>\n",
              "    <path d=\"M18.56 5.44l.94 2.06.94-2.06 2.06-.94-2.06-.94-.94-2.06-.94 2.06-2.06.94zm-11 1L8.5 8.5l.94-2.06 2.06-.94-2.06-.94L8.5 2.5l-.94 2.06-2.06.94zm10 10l.94 2.06.94-2.06 2.06-.94-2.06-.94-.94-2.06-.94 2.06-2.06.94z\"/><path d=\"M17.41 7.96l-1.37-1.37c-.4-.4-.92-.59-1.43-.59-.52 0-1.04.2-1.43.59L10.3 9.45l-7.72 7.72c-.78.78-.78 2.05 0 2.83L4 21.41c.39.39.9.59 1.41.59.51 0 1.02-.2 1.41-.59l7.78-7.78 2.81-2.81c.8-.78.8-2.07 0-2.86zM5.41 20L4 18.59l7.72-7.72 1.47 1.35L5.41 20z\"/>\n",
              "  </svg>\n",
              "      </button>\n",
              "      \n",
              "  <style>\n",
              "    .colab-df-container {\n",
              "      display:flex;\n",
              "      flex-wrap:wrap;\n",
              "      gap: 12px;\n",
              "    }\n",
              "\n",
              "    .colab-df-convert {\n",
              "      background-color: #E8F0FE;\n",
              "      border: none;\n",
              "      border-radius: 50%;\n",
              "      cursor: pointer;\n",
              "      display: none;\n",
              "      fill: #1967D2;\n",
              "      height: 32px;\n",
              "      padding: 0 0 0 0;\n",
              "      width: 32px;\n",
              "    }\n",
              "\n",
              "    .colab-df-convert:hover {\n",
              "      background-color: #E2EBFA;\n",
              "      box-shadow: 0px 1px 2px rgba(60, 64, 67, 0.3), 0px 1px 3px 1px rgba(60, 64, 67, 0.15);\n",
              "      fill: #174EA6;\n",
              "    }\n",
              "\n",
              "    [theme=dark] .colab-df-convert {\n",
              "      background-color: #3B4455;\n",
              "      fill: #D2E3FC;\n",
              "    }\n",
              "\n",
              "    [theme=dark] .colab-df-convert:hover {\n",
              "      background-color: #434B5C;\n",
              "      box-shadow: 0px 1px 3px 1px rgba(0, 0, 0, 0.15);\n",
              "      filter: drop-shadow(0px 1px 2px rgba(0, 0, 0, 0.3));\n",
              "      fill: #FFFFFF;\n",
              "    }\n",
              "  </style>\n",
              "\n",
              "      <script>\n",
              "        const buttonEl =\n",
              "          document.querySelector('#df-51fc75c1-9c30-4293-ad82-2a2cc8231d31 button.colab-df-convert');\n",
              "        buttonEl.style.display =\n",
              "          google.colab.kernel.accessAllowed ? 'block' : 'none';\n",
              "\n",
              "        async function convertToInteractive(key) {\n",
              "          const element = document.querySelector('#df-51fc75c1-9c30-4293-ad82-2a2cc8231d31');\n",
              "          const dataTable =\n",
              "            await google.colab.kernel.invokeFunction('convertToInteractive',\n",
              "                                                     [key], {});\n",
              "          if (!dataTable) return;\n",
              "\n",
              "          const docLinkHtml = 'Like what you see? Visit the ' +\n",
              "            '<a target=\"_blank\" href=https://colab.research.google.com/notebooks/data_table.ipynb>data table notebook</a>'\n",
              "            + ' to learn more about interactive tables.';\n",
              "          element.innerHTML = '';\n",
              "          dataTable['output_type'] = 'display_data';\n",
              "          await google.colab.output.renderOutput(dataTable, element);\n",
              "          const docLink = document.createElement('div');\n",
              "          docLink.innerHTML = docLinkHtml;\n",
              "          element.appendChild(docLink);\n",
              "        }\n",
              "      </script>\n",
              "    </div>\n",
              "  </div>\n",
              "  "
            ]
          },
          "metadata": {},
          "execution_count": 14
        }
      ]
    },
    {
      "cell_type": "code",
      "source": [
        "#visualize the most energy consumption on time\n",
        "chart = most_energy_consumption[:40].sort_values(by = 'Usage_kWh', ascending = False).plot(kind = 'line', color = 'blue')\n",
        "chart.set_xticklabels(chart.get_xticklabels(), rotation = 45)\n",
        "plt.title('The Most Energy Consumption', fontsize = 15, color = 'red', loc = 'center', pad = 12)\n",
        "plt.xlabel('Date')\n",
        "plt.ylabel('Energy Consumption')\n",
        "plt.show()"
      ],
      "metadata": {
        "colab": {
          "base_uri": "https://localhost:8080/",
          "height": 681
        },
        "id": "XNsWNFi6SavP",
        "outputId": "a048a119-ce0f-4390-ef7e-191e45b63c0b"
      },
      "execution_count": 15,
      "outputs": [
        {
          "output_type": "display_data",
          "data": {
            "text/plain": [
              "<Figure size 1080x720 with 1 Axes>"
            ],
            "image/png": "[encoded data removed]"
          },
          "metadata": {
            "needs_background": "light"
          }
        }
      ]
    },
    {
      "cell_type": "code",
      "source": [
        "#visualize the most energy consumption on time\n",
        "chart = most_energy_consumption[:100].sort_values(by = 'Usage_kWh').plot(kind = 'line', color = 'blue')\n",
        "chart.set_xticklabels(chart.get_xticklabels(), rotation = 45)\n",
        "plt.title('The Most Energy Consumption', fontsize = 15, color = 'red', loc = 'center', pad = 12)\n",
        "plt.xlabel('Date')\n",
        "plt.ylabel('Energy Consumption')\n",
        "plt.show()"
      ],
      "metadata": {
        "colab": {
          "base_uri": "https://localhost:8080/",
          "height": 681
        },
        "id": "1wyHvuYoSg9U",
        "outputId": "f37db820-bc52-4ba8-bf02-ad2b8726c311"
      },
      "execution_count": 16,
      "outputs": [
        {
          "output_type": "display_data",
          "data": {
            "text/plain": [
              "<Figure size 1080x720 with 1 Axes>"
            ],
            "image/png": "[encoded data removed]"
          },
          "metadata": {
            "needs_background": "light"
          }
        }
      ]
    },
    {
      "cell_type": "code",
      "source": [
        "#analyze the factor of energy consumption\n",
        "chart = df.boxplot(column = ['Usage_kWh', 'Lagging_Current_Reactive_Power_kVarh', 'Leading_Current_Reactive_Power_kVarh',\n",
        "                    'CO2', 'Lagging_Current_Power_Factor', 'Leading_Current_Power_Factor'])\n",
        "chart.set_xticklabels(chart.get_xticklabels(), rotation = 90)\n",
        "plt.title('The Factor of Energy Consumption in Steel Industry', fontsize = 15, color = 'r', pad = 12)\n",
        "plt.xlabel('Factors')\n",
        "plt.ylabel('Count')\n",
        "plt.show()"
      ],
      "metadata": {
        "colab": {
          "base_uri": "https://localhost:8080/",
          "height": 818
        },
        "id": "WqyPP7NISnS9",
        "outputId": "eb515fa9-a0f4-494e-c61d-6a7cc2a8ac34"
      },
      "execution_count": 17,
      "outputs": [
        {
          "output_type": "display_data",
          "data": {
            "text/plain": [
              "<Figure size 1080x720 with 1 Axes>"
            ],
            "image/png": "[encoded data removed]"
          },
          "metadata": {
            "needs_background": "light"
          }
        }
      ]
    },
    {
      "cell_type": "code",
      "source": [
        "#analyze the factor of energy consumption\n",
        "chart = df.boxplot(column = ['NSM'])\n",
        "chart.set_xticklabels(chart.get_xticklabels(), rotation = 90)\n",
        "plt.title('The Factor of Energy Consumption in Steel Industry', fontsize = 15, color = 'r', pad = 12)\n",
        "plt.xlabel('Factors')\n",
        "plt.ylabel('Count')\n",
        "plt.show()\n"
      ],
      "metadata": {
        "colab": {
          "base_uri": "https://localhost:8080/",
          "height": 642
        },
        "id": "hUM7D_ZhSp6g",
        "outputId": "1bf28aba-309b-45ce-8b0a-7848823a0025"
      },
      "execution_count": 18,
      "outputs": [
        {
          "output_type": "display_data",
          "data": {
            "text/plain": [
              "<Figure size 1080x720 with 1 Axes>"
            ],
            "image/png": "[encoded data removed]"
          },
          "metadata": {
            "needs_background": "light"
          }
        }
      ]
    },
    {
      "cell_type": "code",
      "source": [
        "#analyze of energy consumption and NSM based on load type, day of week and week status\n",
        "pd.pivot_table(df, index = ['Load_Type', 'Day_of_week', 'WeekStatus'], values = ['NSM', 'Usage_kWh'], \n",
        "               aggfunc = {'NSM' : np.mean, 'Usage_kWh' : np.mean})"
      ],
      "metadata": {
        "colab": {
          "base_uri": "https://localhost:8080/",
          "height": 739
        },
        "id": "MLVLeEd-Suo8",
        "outputId": "fb89ad50-9f96-4f28-b94f-cf6db40a974c"
      },
      "execution_count": 19,
      "outputs": [
        {
          "output_type": "execute_result",
          "data": {
            "text/plain": [
              "                                              NSM  Usage_kWh\n",
              "Load_Type    Day_of_week WeekStatus                         \n",
              "Light_Load   Friday      Weekday     23206.204380  11.361442\n",
              "             Monday      Weekday     24026.223776   8.805459\n",
              "             Saturday    Weekend     31381.843575   7.072210\n",
              "             Sunday      Weekend     39144.653465   4.171106\n",
              "             Thursday    Weekday     23206.204380  11.803964\n",
              "             Tuesday     Weekday     24074.199288  10.510040\n",
              "             Wednesday   Weekday     24074.199288  10.780560\n",
              "Maximum_Load Friday      Weekday     53106.000000  61.043700\n",
              "             Monday      Weekday     53106.000000  66.278233\n",
              "             Saturday    Weekend     52492.105263  41.529605\n",
              "             Sunday      Weekend     52826.470588  29.195662\n",
              "             Thursday    Weekday     53106.000000  64.522758\n",
              "             Tuesday     Weekday     53176.530612  66.023359\n",
              "             Wednesday   Weekday     53176.530612  62.358359\n",
              "Medium_Load  Friday      Weekday     61758.000000  42.220494\n",
              "             Monday      Weekday     61758.000000  43.097231\n",
              "             Saturday    Weekend     62218.421053  17.547648\n",
              "             Sunday      Weekend     61967.647059  16.368934\n",
              "             Thursday    Weekday     61758.000000  44.986200\n",
              "             Tuesday     Weekday     61705.102041  45.020797\n",
              "             Wednesday   Weekday     61705.102041  40.462379"
            ],
            "text/html": [
              "\n",
              "  <div id=\"df-07c232c1-d750-4af0-8969-b73350f5a7ac\">\n",
              "    <div class=\"colab-df-container\">\n",
              "      <div>\n",
              "<style scoped>\n",
              "    .dataframe tbody tr th:only-of-type {\n",
              "        vertical-align: middle;\n",
              "    }\n",
              "\n",
              "    .dataframe tbody tr th {\n",
              "        vertical-align: top;\n",
              "    }\n",
              "\n",
              "    .dataframe thead th {\n",
              "        text-align: right;\n",
              "    }\n",
              "</style>\n",
              "<table border=\"1\" class=\"dataframe\">\n",
              "  <thead>\n",
              "    <tr style=\"text-align: right;\">\n",
              "      <th></th>\n",
              "      <th></th>\n",
              "      <th></th>\n",
              "      <th>NSM</th>\n",
              "      <th>Usage_kWh</th>\n",
              "    </tr>\n",
              "    <tr>\n",
              "      <th>Load_Type</th>\n",
              "      <th>Day_of_week</th>\n",
              "      <th>WeekStatus</th>\n",
              "      <th></th>\n",
              "      <th></th>\n",
              "    </tr>\n",
              "  </thead>\n",
              "  <tbody>\n",
              "    <tr>\n",
              "      <th rowspan=\"7\" valign=\"top\">Light_Load</th>\n",
              "      <th>Friday</th>\n",
              "      <th>Weekday</th>\n",
              "      <td>23206.204380</td>\n",
              "      <td>11.361442</td>\n",
              "    </tr>\n",
              "    <tr>\n",
              "      <th>Monday</th>\n",
              "      <th>Weekday</th>\n",
              "      <td>24026.223776</td>\n",
              "      <td>8.805459</td>\n",
              "    </tr>\n",
              "    <tr>\n",
              "      <th>Saturday</th>\n",
              "      <th>Weekend</th>\n",
              "      <td>31381.843575</td>\n",
              "      <td>7.072210</td>\n",
              "    </tr>\n",
              "    <tr>\n",
              "      <th>Sunday</th>\n",
              "      <th>Weekend</th>\n",
              "      <td>39144.653465</td>\n",
              "      <td>4.171106</td>\n",
              "    </tr>\n",
              "    <tr>\n",
              "      <th>Thursday</th>\n",
              "      <th>Weekday</th>\n",
              "      <td>23206.204380</td>\n",
              "      <td>11.803964</td>\n",
              "    </tr>\n",
              "    <tr>\n",
              "      <th>Tuesday</th>\n",
              "      <th>Weekday</th>\n",
              "      <td>24074.199288</td>\n",
              "      <td>10.510040</td>\n",
              "    </tr>\n",
              "    <tr>\n",
              "      <th>Wednesday</th>\n",
              "      <th>Weekday</th>\n",
              "      <td>24074.199288</td>\n",
              "      <td>10.780560</td>\n",
              "    </tr>\n",
              "    <tr>\n",
              "      <th rowspan=\"7\" valign=\"top\">Maximum_Load</th>\n",
              "      <th>Friday</th>\n",
              "      <th>Weekday</th>\n",
              "      <td>53106.000000</td>\n",
              "      <td>61.043700</td>\n",
              "    </tr>\n",
              "    <tr>\n",
              "      <th>Monday</th>\n",
              "      <th>Weekday</th>\n",
              "      <td>53106.000000</td>\n",
              "      <td>66.278233</td>\n",
              "    </tr>\n",
              "    <tr>\n",
              "      <th>Saturday</th>\n",
              "      <th>Weekend</th>\n",
              "      <td>52492.105263</td>\n",
              "      <td>41.529605</td>\n",
              "    </tr>\n",
              "    <tr>\n",
              "      <th>Sunday</th>\n",
              "      <th>Weekend</th>\n",
              "      <td>52826.470588</td>\n",
              "      <td>29.195662</td>\n",
              "    </tr>\n",
              "    <tr>\n",
              "      <th>Thursday</th>\n",
              "      <th>Weekday</th>\n",
              "      <td>53106.000000</td>\n",
              "      <td>64.522758</td>\n",
              "    </tr>\n",
              "    <tr>\n",
              "      <th>Tuesday</th>\n",
              "      <th>Weekday</th>\n",
              "      <td>53176.530612</td>\n",
              "      <td>66.023359</td>\n",
              "    </tr>\n",
              "    <tr>\n",
              "      <th>Wednesday</th>\n",
              "      <th>Weekday</th>\n",
              "      <td>53176.530612</td>\n",
              "      <td>62.358359</td>\n",
              "    </tr>\n",
              "    <tr>\n",
              "      <th rowspan=\"7\" valign=\"top\">Medium_Load</th>\n",
              "      <th>Friday</th>\n",
              "      <th>Weekday</th>\n",
              "      <td>61758.000000</td>\n",
              "      <td>42.220494</td>\n",
              "    </tr>\n",
              "    <tr>\n",
              "      <th>Monday</th>\n",
              "      <th>Weekday</th>\n",
              "      <td>61758.000000</td>\n",
              "      <td>43.097231</td>\n",
              "    </tr>\n",
              "    <tr>\n",
              "      <th>Saturday</th>\n",
              "      <th>Weekend</th>\n",
              "      <td>62218.421053</td>\n",
              "      <td>17.547648</td>\n",
              "    </tr>\n",
              "    <tr>\n",
              "      <th>Sunday</th>\n",
              "      <th>Weekend</th>\n",
              "      <td>61967.647059</td>\n",
              "      <td>16.368934</td>\n",
              "    </tr>\n",
              "    <tr>\n",
              "      <th>Thursday</th>\n",
              "      <th>Weekday</th>\n",
              "      <td>61758.000000</td>\n",
              "      <td>44.986200</td>\n",
              "    </tr>\n",
              "    <tr>\n",
              "      <th>Tuesday</th>\n",
              "      <th>Weekday</th>\n",
              "      <td>61705.102041</td>\n",
              "      <td>45.020797</td>\n",
              "    </tr>\n",
              "    <tr>\n",
              "      <th>Wednesday</th>\n",
              "      <th>Weekday</th>\n",
              "      <td>61705.102041</td>\n",
              "      <td>40.462379</td>\n",
              "    </tr>\n",
              "  </tbody>\n",
              "</table>\n",
              "</div>\n",
              "      <button class=\"colab-df-convert\" onclick=\"convertToInteractive('df-07c232c1-d750-4af0-8969-b73350f5a7ac')\"\n",
              "              title=\"Convert this dataframe to an interactive table.\"\n",
              "              style=\"display:none;\">\n",
              "        \n",
              "  <svg xmlns=\"http://www.w3.org/2000/svg\" height=\"24px\"viewBox=\"0 0 24 24\"\n",
              "       width=\"24px\">\n",
              "    <path d=\"M0 0h24v24H0V0z\" fill=\"none\"/>\n",
              "    <path d=\"M18.56 5.44l.94 2.06.94-2.06 2.06-.94-2.06-.94-.94-2.06-.94 2.06-2.06.94zm-11 1L8.5 8.5l.94-2.06 2.06-.94-2.06-.94L8.5 2.5l-.94 2.06-2.06.94zm10 10l.94 2.06.94-2.06 2.06-.94-2.06-.94-.94-2.06-.94 2.06-2.06.94z\"/><path d=\"M17.41 7.96l-1.37-1.37c-.4-.4-.92-.59-1.43-.59-.52 0-1.04.2-1.43.59L10.3 9.45l-7.72 7.72c-.78.78-.78 2.05 0 2.83L4 21.41c.39.39.9.59 1.41.59.51 0 1.02-.2 1.41-.59l7.78-7.78 2.81-2.81c.8-.78.8-2.07 0-2.86zM5.41 20L4 18.59l7.72-7.72 1.47 1.35L5.41 20z\"/>\n",
              "  </svg>\n",
              "      </button>\n",
              "      \n",
              "  <style>\n",
              "    .colab-df-container {\n",
              "      display:flex;\n",
              "      flex-wrap:wrap;\n",
              "      gap: 12px;\n",
              "    }\n",
              "\n",
              "    .colab-df-convert {\n",
              "      background-color: #E8F0FE;\n",
              "      border: none;\n",
              "      border-radius: 50%;\n",
              "      cursor: pointer;\n",
              "      display: none;\n",
              "      fill: #1967D2;\n",
              "      height: 32px;\n",
              "      padding: 0 0 0 0;\n",
              "      width: 32px;\n",
              "    }\n",
              "\n",
              "    .colab-df-convert:hover {\n",
              "      background-color: #E2EBFA;\n",
              "      box-shadow: 0px 1px 2px rgba(60, 64, 67, 0.3), 0px 1px 3px 1px rgba(60, 64, 67, 0.15);\n",
              "      fill: #174EA6;\n",
              "    }\n",
              "\n",
              "    [theme=dark] .colab-df-convert {\n",
              "      background-color: #3B4455;\n",
              "      fill: #D2E3FC;\n",
              "    }\n",
              "\n",
              "    [theme=dark] .colab-df-convert:hover {\n",
              "      background-color: #434B5C;\n",
              "      box-shadow: 0px 1px 3px 1px rgba(0, 0, 0, 0.15);\n",
              "      filter: drop-shadow(0px 1px 2px rgba(0, 0, 0, 0.3));\n",
              "      fill: #FFFFFF;\n",
              "    }\n",
              "  </style>\n",
              "\n",
              "      <script>\n",
              "        const buttonEl =\n",
              "          document.querySelector('#df-07c232c1-d750-4af0-8969-b73350f5a7ac button.colab-df-convert');\n",
              "        buttonEl.style.display =\n",
              "          google.colab.kernel.accessAllowed ? 'block' : 'none';\n",
              "\n",
              "        async function convertToInteractive(key) {\n",
              "          const element = document.querySelector('#df-07c232c1-d750-4af0-8969-b73350f5a7ac');\n",
              "          const dataTable =\n",
              "            await google.colab.kernel.invokeFunction('convertToInteractive',\n",
              "                                                     [key], {});\n",
              "          if (!dataTable) return;\n",
              "\n",
              "          const docLinkHtml = 'Like what you see? Visit the ' +\n",
              "            '<a target=\"_blank\" href=https://colab.research.google.com/notebooks/data_table.ipynb>data table notebook</a>'\n",
              "            + ' to learn more about interactive tables.';\n",
              "          element.innerHTML = '';\n",
              "          dataTable['output_type'] = 'display_data';\n",
              "          await google.colab.output.renderOutput(dataTable, element);\n",
              "          const docLink = document.createElement('div');\n",
              "          docLink.innerHTML = docLinkHtml;\n",
              "          element.appendChild(docLink);\n",
              "        }\n",
              "      </script>\n",
              "    </div>\n",
              "  </div>\n",
              "  "
            ]
          },
          "metadata": {},
          "execution_count": 19
        }
      ]
    },
    {
      "cell_type": "code",
      "source": [
        "#visualize energy consumption based on load type\n",
        "plt.rcParams['figure.figsize'] = (15,5)\n",
        "plt.subplot(1, 2, 1)\n",
        "chart = df.groupby('Load_Type')['Usage_kWh'].mean().sort_values(ascending = False).plot(kind = 'bar', color = 'yellow')\n",
        "chart.set_xticklabels(chart.get_xticklabels(), rotation = 0)\n",
        "plt.title('Energy Consumption based on Load Type', fontsize = 15, color = 'b', pad = 12)\n",
        "plt.xlabel('Load Type')\n",
        "plt.ylabel('Energy Consumption')\n",
        "\n",
        "#visualize number of second from midnight based on load type\n",
        "plt.subplot(1, 2, 2)\n",
        "chart = df.groupby('Load_Type')['NSM'].mean().sort_values(ascending = False).plot(kind = 'bar', color = 'brown')\n",
        "chart.set_xticklabels(chart.get_xticklabels(), rotation = 0)\n",
        "plt.title('Number of Second from Midnight based on Load Type', fontsize = 15, color = 'b', pad = 12)\n",
        "plt.xlabel('Load Type')\n",
        "plt.ylabel('Number of Second from Midnight')\n",
        "plt.show()"
      ],
      "metadata": {
        "colab": {
          "base_uri": "https://localhost:8080/",
          "height": 359
        },
        "id": "Y67hmQ2DSv11",
        "outputId": "df295600-5d3b-4741-e62c-d22bda792eb7"
      },
      "execution_count": 20,
      "outputs": [
        {
          "output_type": "display_data",
          "data": {
            "text/plain": [
              "<Figure size 1080x360 with 2 Axes>"
            ],
            "image/png": "[encoded data removed]"
          },
          "metadata": {
            "needs_background": "light"
          }
        }
      ]
    },
    {
      "cell_type": "code",
      "source": [
        "#visualize energy consumption based on week status and load type\n",
        "plt.rcParams['figure.figsize'] = (15,8)\n",
        "chart = df.groupby(['WeekStatus','Load_Type'])['Usage_kWh'].mean().unstack().plot(kind = 'bar')\n",
        "chart.set_xticklabels(chart.get_xticklabels(), rotation = 0)\n",
        "plt.title('Energy Consumption based on Week Status and Load Type', fontsize = 15, pad = 15, color = 'b')\n",
        "plt.xlabel('Week Status')\n",
        "plt.ylabel('Energy Consumption')\n",
        "plt.legend(bbox_to_anchor = (1.3, 1), borderaxespad = 0)\n",
        "plt.show()"
      ],
      "metadata": {
        "colab": {
          "base_uri": "https://localhost:8080/",
          "height": 524
        },
        "id": "Ga1K8z_CSx9s",
        "outputId": "3e8e196f-6d0c-4aab-c216-6547592fd2da"
      },
      "execution_count": 21,
      "outputs": [
        {
          "output_type": "display_data",
          "data": {
            "text/plain": [
              "<Figure size 1080x576 with 1 Axes>"
            ],
            "image/png": "[encoded data removed]"
          },
          "metadata": {
            "needs_background": "light"
          }
        }
      ]
    },
    {
      "cell_type": "code",
      "source": [
        "#visualize energy consumption based on day of week and load type\n",
        "chart = df.groupby(['Day_of_week','Load_Type'])['Usage_kWh'].mean().unstack().plot(kind = 'bar')\n",
        "chart.set_xticklabels(chart.get_xticklabels(), rotation = 45)\n",
        "plt.title('Energy Consumption based on Day of Week and Load Type', fontsize = 15, pad = 15, color = 'b')\n",
        "plt.xlabel('Day of Week')\n",
        "plt.ylabel('Energy Consumption')\n",
        "plt.legend(bbox_to_anchor = (1.01, 1), borderaxespad = 0)\n",
        "plt.show()"
      ],
      "metadata": {
        "colab": {
          "base_uri": "https://localhost:8080/",
          "height": 562
        },
        "id": "JsvhY8W_Szn7",
        "outputId": "63746b2d-428c-49e3-c24e-4ff9d7ba7d78"
      },
      "execution_count": 22,
      "outputs": [
        {
          "output_type": "display_data",
          "data": {
            "text/plain": [
              "<Figure size 1080x576 with 1 Axes>"
            ],
            "image/png": "[encoded data removed]"
          },
          "metadata": {
            "needs_background": "light"
          }
        }
      ]
    },
    {
      "cell_type": "code",
      "source": [
        "#visualize number of second from midnight based on week status and load type\n",
        "chart = df.groupby(['WeekStatus','Load_Type'])['NSM'].mean().unstack().plot(kind = 'bar')\n",
        "chart.set_xticklabels(chart.get_xticklabels(), rotation = 0)\n",
        "plt.title('Number of Second from Midnight based on Week Status and Load Type', fontsize = 15, pad = 15, color = 'b')\n",
        "plt.xlabel('Week Status')\n",
        "plt.ylabel('Number of Second from Midnight')\n",
        "plt.legend(bbox_to_anchor = (1.3, 1), borderaxespad = 0)\n",
        "plt.show()"
      ],
      "metadata": {
        "colab": {
          "base_uri": "https://localhost:8080/",
          "height": 524
        },
        "id": "qSbtR8YXS18M",
        "outputId": "f5220f58-fedf-4ec5-ff79-ac9cfc7740ee"
      },
      "execution_count": 23,
      "outputs": [
        {
          "output_type": "display_data",
          "data": {
            "text/plain": [
              "<Figure size 1080x576 with 1 Axes>"
            ],
            "image/png": "[encoded data removed]"
          },
          "metadata": {
            "needs_background": "light"
          }
        }
      ]
    },
    {
      "cell_type": "markdown",
      "source": [
        "### Converting Categorical Data to Numerical one by one hot encoding"
      ],
      "metadata": {
        "id": "2p1CfgZzS9ac"
      }
    },
    {
      "cell_type": "code",
      "source": [
        "#indexing date\n",
        "df = df.set_index('date')\n",
        "\n",
        "#handling categorical data\n",
        "df = pd.get_dummies(df, drop_first = True)\n",
        "df.head()"
      ],
      "metadata": {
        "colab": {
          "base_uri": "https://localhost:8080/",
          "height": 388
        },
        "id": "zr1EFlh_S-5F",
        "outputId": "5b18ced9-6a99-4d69-aeb6-dc7cabcf564c"
      },
      "execution_count": 24,
      "outputs": [
        {
          "output_type": "execute_result",
          "data": {
            "text/plain": [
              "               Usage_kWh  Lagging_Current_Reactive_Power_kVarh  \\\n",
              "date                                                             \n",
              "1/1/2018 0:15       3.17                                  2.95   \n",
              "1/1/2018 0:30       4.00                                  4.46   \n",
              "1/1/2018 0:45       3.24                                  3.28   \n",
              "1/1/2018 1:00       3.31                                  3.56   \n",
              "1/1/2018 1:15       3.82                                  4.50   \n",
              "\n",
              "               Leading_Current_Reactive_Power_kVarh  CO2  \\\n",
              "date                                                       \n",
              "1/1/2018 0:15                                   0.0  0.0   \n",
              "1/1/2018 0:30                                   0.0  0.0   \n",
              "1/1/2018 0:45                                   0.0  0.0   \n",
              "1/1/2018 1:00                                   0.0  0.0   \n",
              "1/1/2018 1:15                                   0.0  0.0   \n",
              "\n",
              "               Lagging_Current_Power_Factor  Leading_Current_Power_Factor  \\\n",
              "date                                                                        \n",
              "1/1/2018 0:15                         73.21                         100.0   \n",
              "1/1/2018 0:30                         66.77                         100.0   \n",
              "1/1/2018 0:45                         70.28                         100.0   \n",
              "1/1/2018 1:00                         68.09                         100.0   \n",
              "1/1/2018 1:15                         64.72                         100.0   \n",
              "\n",
              "                NSM  WeekStatus_Weekend  Day_of_week_Monday  \\\n",
              "date                                                          \n",
              "1/1/2018 0:15   900                   0                   1   \n",
              "1/1/2018 0:30  1800                   0                   1   \n",
              "1/1/2018 0:45  2700                   0                   1   \n",
              "1/1/2018 1:00  3600                   0                   1   \n",
              "1/1/2018 1:15  4500                   0                   1   \n",
              "\n",
              "               Day_of_week_Saturday  Day_of_week_Sunday  Day_of_week_Thursday  \\\n",
              "date                                                                            \n",
              "1/1/2018 0:15                     0                   0                     0   \n",
              "1/1/2018 0:30                     0                   0                     0   \n",
              "1/1/2018 0:45                     0                   0                     0   \n",
              "1/1/2018 1:00                     0                   0                     0   \n",
              "1/1/2018 1:15                     0                   0                     0   \n",
              "\n",
              "               Day_of_week_Tuesday  Day_of_week_Wednesday  \\\n",
              "date                                                        \n",
              "1/1/2018 0:15                    0                      0   \n",
              "1/1/2018 0:30                    0                      0   \n",
              "1/1/2018 0:45                    0                      0   \n",
              "1/1/2018 1:00                    0                      0   \n",
              "1/1/2018 1:15                    0                      0   \n",
              "\n",
              "               Load_Type_Maximum_Load  Load_Type_Medium_Load  \n",
              "date                                                          \n",
              "1/1/2018 0:15                       0                      0  \n",
              "1/1/2018 0:30                       0                      0  \n",
              "1/1/2018 0:45                       0                      0  \n",
              "1/1/2018 1:00                       0                      0  \n",
              "1/1/2018 1:15                       0                      0  "
            ],
            "text/html": [
              "\n",
              "  <div id=\"df-eeecc368-8bbd-4767-a933-da175032bd31\">\n",
              "    <div class=\"colab-df-container\">\n",
              "      <div>\n",
              "<style scoped>\n",
              "    .dataframe tbody tr th:only-of-type {\n",
              "        vertical-align: middle;\n",
              "    }\n",
              "\n",
              "    .dataframe tbody tr th {\n",
              "        vertical-align: top;\n",
              "    }\n",
              "\n",
              "    .dataframe thead th {\n",
              "        text-align: right;\n",
              "    }\n",
              "</style>\n",
              "<table border=\"1\" class=\"dataframe\">\n",
              "  <thead>\n",
              "    <tr style=\"text-align: right;\">\n",
              "      <th></th>\n",
              "      <th>Usage_kWh</th>\n",
              "      <th>Lagging_Current_Reactive_Power_kVarh</th>\n",
              "      <th>Leading_Current_Reactive_Power_kVarh</th>\n",
              "      <th>CO2</th>\n",
              "      <th>Lagging_Current_Power_Factor</th>\n",
              "      <th>Leading_Current_Power_Factor</th>\n",
              "      <th>NSM</th>\n",
              "      <th>WeekStatus_Weekend</th>\n",
              "      <th>Day_of_week_Monday</th>\n",
              "      <th>Day_of_week_Saturday</th>\n",
              "      <th>Day_of_week_Sunday</th>\n",
              "      <th>Day_of_week_Thursday</th>\n",
              "      <th>Day_of_week_Tuesday</th>\n",
              "      <th>Day_of_week_Wednesday</th>\n",
              "      <th>Load_Type_Maximum_Load</th>\n",
              "      <th>Load_Type_Medium_Load</th>\n",
              "    </tr>\n",
              "    <tr>\n",
              "      <th>date</th>\n",
              "      <th></th>\n",
              "      <th></th>\n",
              "      <th></th>\n",
              "      <th></th>\n",
              "      <th></th>\n",
              "      <th></th>\n",
              "      <th></th>\n",
              "      <th></th>\n",
              "      <th></th>\n",
              "      <th></th>\n",
              "      <th></th>\n",
              "      <th></th>\n",
              "      <th></th>\n",
              "      <th></th>\n",
              "      <th></th>\n",
              "      <th></th>\n",
              "    </tr>\n",
              "  </thead>\n",
              "  <tbody>\n",
              "    <tr>\n",
              "      <th>1/1/2018 0:15</th>\n",
              "      <td>3.17</td>\n",
              "      <td>2.95</td>\n",
              "      <td>0.0</td>\n",
              "      <td>0.0</td>\n",
              "      <td>73.21</td>\n",
              "      <td>100.0</td>\n",
              "      <td>900</td>\n",
              "      <td>0</td>\n",
              "      <td>1</td>\n",
              "      <td>0</td>\n",
              "      <td>0</td>\n",
              "      <td>0</td>\n",
              "      <td>0</td>\n",
              "      <td>0</td>\n",
              "      <td>0</td>\n",
              "      <td>0</td>\n",
              "    </tr>\n",
              "    <tr>\n",
              "      <th>1/1/2018 0:30</th>\n",
              "      <td>4.00</td>\n",
              "      <td>4.46</td>\n",
              "      <td>0.0</td>\n",
              "      <td>0.0</td>\n",
              "      <td>66.77</td>\n",
              "      <td>100.0</td>\n",
              "      <td>1800</td>\n",
              "      <td>0</td>\n",
              "      <td>1</td>\n",
              "      <td>0</td>\n",
              "      <td>0</td>\n",
              "      <td>0</td>\n",
              "      <td>0</td>\n",
              "      <td>0</td>\n",
              "      <td>0</td>\n",
              "      <td>0</td>\n",
              "    </tr>\n",
              "    <tr>\n",
              "      <th>1/1/2018 0:45</th>\n",
              "      <td>3.24</td>\n",
              "      <td>3.28</td>\n",
              "      <td>0.0</td>\n",
              "      <td>0.0</td>\n",
              "      <td>70.28</td>\n",
              "      <td>100.0</td>\n",
              "      <td>2700</td>\n",
              "      <td>0</td>\n",
              "      <td>1</td>\n",
              "      <td>0</td>\n",
              "      <td>0</td>\n",
              "      <td>0</td>\n",
              "      <td>0</td>\n",
              "      <td>0</td>\n",
              "      <td>0</td>\n",
              "      <td>0</td>\n",
              "    </tr>\n",
              "    <tr>\n",
              "      <th>1/1/2018 1:00</th>\n",
              "      <td>3.31</td>\n",
              "      <td>3.56</td>\n",
              "      <td>0.0</td>\n",
              "      <td>0.0</td>\n",
              "      <td>68.09</td>\n",
              "      <td>100.0</td>\n",
              "      <td>3600</td>\n",
              "      <td>0</td>\n",
              "      <td>1</td>\n",
              "      <td>0</td>\n",
              "      <td>0</td>\n",
              "      <td>0</td>\n",
              "      <td>0</td>\n",
              "      <td>0</td>\n",
              "      <td>0</td>\n",
              "      <td>0</td>\n",
              "    </tr>\n",
              "    <tr>\n",
              "      <th>1/1/2018 1:15</th>\n",
              "      <td>3.82</td>\n",
              "      <td>4.50</td>\n",
              "      <td>0.0</td>\n",
              "      <td>0.0</td>\n",
              "      <td>64.72</td>\n",
              "      <td>100.0</td>\n",
              "      <td>4500</td>\n",
              "      <td>0</td>\n",
              "      <td>1</td>\n",
              "      <td>0</td>\n",
              "      <td>0</td>\n",
              "      <td>0</td>\n",
              "      <td>0</td>\n",
              "      <td>0</td>\n",
              "      <td>0</td>\n",
              "      <td>0</td>\n",
              "    </tr>\n",
              "  </tbody>\n",
              "</table>\n",
              "</div>\n",
              "      <button class=\"colab-df-convert\" onclick=\"convertToInteractive('df-eeecc368-8bbd-4767-a933-da175032bd31')\"\n",
              "              title=\"Convert this dataframe to an interactive table.\"\n",
              "              style=\"display:none;\">\n",
              "        \n",
              "  <svg xmlns=\"http://www.w3.org/2000/svg\" height=\"24px\"viewBox=\"0 0 24 24\"\n",
              "       width=\"24px\">\n",
              "    <path d=\"M0 0h24v24H0V0z\" fill=\"none\"/>\n",
              "    <path d=\"M18.56 5.44l.94 2.06.94-2.06 2.06-.94-2.06-.94-.94-2.06-.94 2.06-2.06.94zm-11 1L8.5 8.5l.94-2.06 2.06-.94-2.06-.94L8.5 2.5l-.94 2.06-2.06.94zm10 10l.94 2.06.94-2.06 2.06-.94-2.06-.94-.94-2.06-.94 2.06-2.06.94z\"/><path d=\"M17.41 7.96l-1.37-1.37c-.4-.4-.92-.59-1.43-.59-.52 0-1.04.2-1.43.59L10.3 9.45l-7.72 7.72c-.78.78-.78 2.05 0 2.83L4 21.41c.39.39.9.59 1.41.59.51 0 1.02-.2 1.41-.59l7.78-7.78 2.81-2.81c.8-.78.8-2.07 0-2.86zM5.41 20L4 18.59l7.72-7.72 1.47 1.35L5.41 20z\"/>\n",
              "  </svg>\n",
              "      </button>\n",
              "      \n",
              "  <style>\n",
              "    .colab-df-container {\n",
              "      display:flex;\n",
              "      flex-wrap:wrap;\n",
              "      gap: 12px;\n",
              "    }\n",
              "\n",
              "    .colab-df-convert {\n",
              "      background-color: #E8F0FE;\n",
              "      border: none;\n",
              "      border-radius: 50%;\n",
              "      cursor: pointer;\n",
              "      display: none;\n",
              "      fill: #1967D2;\n",
              "      height: 32px;\n",
              "      padding: 0 0 0 0;\n",
              "      width: 32px;\n",
              "    }\n",
              "\n",
              "    .colab-df-convert:hover {\n",
              "      background-color: #E2EBFA;\n",
              "      box-shadow: 0px 1px 2px rgba(60, 64, 67, 0.3), 0px 1px 3px 1px rgba(60, 64, 67, 0.15);\n",
              "      fill: #174EA6;\n",
              "    }\n",
              "\n",
              "    [theme=dark] .colab-df-convert {\n",
              "      background-color: #3B4455;\n",
              "      fill: #D2E3FC;\n",
              "    }\n",
              "\n",
              "    [theme=dark] .colab-df-convert:hover {\n",
              "      background-color: #434B5C;\n",
              "      box-shadow: 0px 1px 3px 1px rgba(0, 0, 0, 0.15);\n",
              "      filter: drop-shadow(0px 1px 2px rgba(0, 0, 0, 0.3));\n",
              "      fill: #FFFFFF;\n",
              "    }\n",
              "  </style>\n",
              "\n",
              "      <script>\n",
              "        const buttonEl =\n",
              "          document.querySelector('#df-eeecc368-8bbd-4767-a933-da175032bd31 button.colab-df-convert');\n",
              "        buttonEl.style.display =\n",
              "          google.colab.kernel.accessAllowed ? 'block' : 'none';\n",
              "\n",
              "        async function convertToInteractive(key) {\n",
              "          const element = document.querySelector('#df-eeecc368-8bbd-4767-a933-da175032bd31');\n",
              "          const dataTable =\n",
              "            await google.colab.kernel.invokeFunction('convertToInteractive',\n",
              "                                                     [key], {});\n",
              "          if (!dataTable) return;\n",
              "\n",
              "          const docLinkHtml = 'Like what you see? Visit the ' +\n",
              "            '<a target=\"_blank\" href=https://colab.research.google.com/notebooks/data_table.ipynb>data table notebook</a>'\n",
              "            + ' to learn more about interactive tables.';\n",
              "          element.innerHTML = '';\n",
              "          dataTable['output_type'] = 'display_data';\n",
              "          await google.colab.output.renderOutput(dataTable, element);\n",
              "          const docLink = document.createElement('div');\n",
              "          docLink.innerHTML = docLinkHtml;\n",
              "          element.appendChild(docLink);\n",
              "        }\n",
              "      </script>\n",
              "    </div>\n",
              "  </div>\n",
              "  "
            ]
          },
          "metadata": {},
          "execution_count": 24
        }
      ]
    },
    {
      "cell_type": "code",
      "source": [
        "df.shape"
      ],
      "metadata": {
        "colab": {
          "base_uri": "https://localhost:8080/"
        },
        "id": "nSbiHqwiTA7g",
        "outputId": "12969bbc-eef4-4455-e45c-68f4d39ad086"
      },
      "execution_count": 25,
      "outputs": [
        {
          "output_type": "execute_result",
          "data": {
            "text/plain": [
              "(35040, 16)"
            ]
          },
          "metadata": {},
          "execution_count": 25
        }
      ]
    },
    {
      "cell_type": "code",
      "source": [
        "from sklearn.model_selection import train_test_split\n",
        "from sklearn.linear_model import LinearRegression, Ridge, Lasso\n",
        "from sklearn import metrics"
      ],
      "metadata": {
        "id": "0fu7MvPwTDbe"
      },
      "execution_count": 26,
      "outputs": []
    },
    {
      "cell_type": "code",
      "source": [
        "#split data\n",
        "X = df.drop('Usage_kWh', axis = 1)\n",
        "y = df['Usage_kWh']\n",
        "X_train, X_test, y_train, y_test = train_test_split(X, y, test_size = 0.3, random_state = 42)\n",
        "print(X_train.shape)\n",
        "print(y_train.shape)\n",
        "print(X_test.shape)\n",
        "print(y_test.shape)"
      ],
      "metadata": {
        "colab": {
          "base_uri": "https://localhost:8080/"
        },
        "id": "bBIGgsr_TFEV",
        "outputId": "863314ed-c698-48ce-ffd8-0ad7a4f59c13"
      },
      "execution_count": 27,
      "outputs": [
        {
          "output_type": "stream",
          "name": "stdout",
          "text": [
            "(24528, 15)\n",
            "(24528,)\n",
            "(10512, 15)\n",
            "(10512,)\n"
          ]
        }
      ]
    },
    {
      "cell_type": "markdown",
      "source": [
        "### Linear Regression Model"
      ],
      "metadata": {
        "id": "HH71Hc0yTInH"
      }
    },
    {
      "cell_type": "code",
      "source": [
        "#Linear Regression Model\n",
        "lr = LinearRegression()\n",
        "%time lr.fit(X_train, y_train)\n",
        "lr.score(X_test, y_test)"
      ],
      "metadata": {
        "colab": {
          "base_uri": "https://localhost:8080/"
        },
        "id": "hbqQSj-uTGxO",
        "outputId": "cafbab62-e902-45f1-822c-80aef0bb63ac"
      },
      "execution_count": 28,
      "outputs": [
        {
          "output_type": "stream",
          "name": "stdout",
          "text": [
            "CPU times: user 24.1 ms, sys: 12.4 ms, total: 36.6 ms\n",
            "Wall time: 53.1 ms\n"
          ]
        },
        {
          "output_type": "execute_result",
          "data": {
            "text/plain": [
              "0.9841681626773734"
            ]
          },
          "metadata": {},
          "execution_count": 28
        }
      ]
    },
    {
      "cell_type": "code",
      "source": [
        "#prediction\n",
        "y_pred1 = lr.predict(X_test)\n",
        "print(y_pred1)"
      ],
      "metadata": {
        "colab": {
          "base_uri": "https://localhost:8080/"
        },
        "id": "kaR_Ai3rTMLV",
        "outputId": "4bd4f2c2-a2a3-4335-a9fc-43feef2bed67"
      },
      "execution_count": 29,
      "outputs": [
        {
          "output_type": "stream",
          "name": "stdout",
          "text": [
            "[  3.09659745  70.15826234 124.42399214 ...   2.22293667   1.54271064\n",
            "   3.94845762]\n"
          ]
        }
      ]
    },
    {
      "cell_type": "markdown",
      "source": [
        "### Checking MAE, MSE, RMSE"
      ],
      "metadata": {
        "id": "wTSM7mCdTQP-"
      }
    },
    {
      "cell_type": "code",
      "source": [
        "\n",
        "#check MAE, MSE and RMSE\n",
        "print('Mean Absolute Error : ', metrics.mean_absolute_error(y_test, y_pred1))\n",
        "print('Mean Squared Error : ', metrics.mean_squared_error(y_test, y_pred1))\n",
        "print('Root Mean Squared Error : ', math.sqrt(metrics.mean_squared_error(y_test, y_pred1)))"
      ],
      "metadata": {
        "colab": {
          "base_uri": "https://localhost:8080/"
        },
        "id": "H1Nhel-TTOkA",
        "outputId": "ac6a9e37-dbb2-4f5c-bd3e-ecef0911188a"
      },
      "execution_count": 30,
      "outputs": [
        {
          "output_type": "stream",
          "name": "stdout",
          "text": [
            "Mean Absolute Error :  2.551917608738632\n",
            "Mean Squared Error :  17.769389051354363\n",
            "Root Mean Squared Error :  4.215375315598169\n"
          ]
        }
      ]
    },
    {
      "cell_type": "markdown",
      "source": [
        "### Ridge(L2 regularization) Linear Regression Model"
      ],
      "metadata": {
        "id": "J0qN7h98ThVv"
      }
    },
    {
      "cell_type": "code",
      "source": [
        "#Ridge Regression Model\n",
        "ridge = Ridge(alpha = 0.5)\n",
        "%time ridge.fit(X_train, y_train)\n",
        "ridge.score(X_test, y_test)"
      ],
      "metadata": {
        "colab": {
          "base_uri": "https://localhost:8080/"
        },
        "id": "1Txlt5LVTiaC",
        "outputId": "d60fce96-1f0a-4700-df5a-77157a398a2e"
      },
      "execution_count": 31,
      "outputs": [
        {
          "output_type": "stream",
          "name": "stdout",
          "text": [
            "CPU times: user 25.7 ms, sys: 13.2 ms, total: 39 ms\n",
            "Wall time: 26.2 ms\n"
          ]
        },
        {
          "output_type": "execute_result",
          "data": {
            "text/plain": [
              "0.968361386152787"
            ]
          },
          "metadata": {},
          "execution_count": 31
        }
      ]
    },
    {
      "cell_type": "code",
      "source": [
        "#prediction\n",
        "y_pred2= ridge.predict(X_test)\n",
        "print(y_pred2)"
      ],
      "metadata": {
        "colab": {
          "base_uri": "https://localhost:8080/"
        },
        "id": "RPgBymP1TmIa",
        "outputId": "5b607292-b266-4845-d48a-9b494d6254e8"
      },
      "execution_count": 32,
      "outputs": [
        {
          "output_type": "stream",
          "name": "stdout",
          "text": [
            "[  3.35329488  76.26050689 117.04661414 ...  -0.74767303  -0.99104586\n",
            "   5.31562643]\n"
          ]
        }
      ]
    },
    {
      "cell_type": "code",
      "source": [
        "#check MAE, MSE and RMSE\n",
        "print('Mean Absolute Error : ', metrics.mean_absolute_error(y_test, y_pred2))\n",
        "print('Mean Squared Error : ', metrics.mean_squared_error(y_test, y_pred2))\n",
        "print('Root Mean Squared Error : ', math.sqrt(metrics.mean_squared_error(y_test, y_pred2)))"
      ],
      "metadata": {
        "colab": {
          "base_uri": "https://localhost:8080/"
        },
        "id": "V7ppkgjBTnFv",
        "outputId": "cb4f5596-06f6-466a-e100-6b2399f66728"
      },
      "execution_count": 33,
      "outputs": [
        {
          "output_type": "stream",
          "name": "stdout",
          "text": [
            "Mean Absolute Error :  4.129658195653847\n",
            "Mean Squared Error :  35.51065028271909\n",
            "Root Mean Squared Error :  5.959081328755221\n"
          ]
        }
      ]
    },
    {
      "cell_type": "markdown",
      "source": [
        "### Lasso(L1 regularization) Linear Regression Model"
      ],
      "metadata": {
        "id": "7cQd38VJTqg7"
      }
    },
    {
      "cell_type": "code",
      "source": [
        "#Lasso Regression Model\n",
        "lasso = Lasso(alpha = 0.5)\n",
        "%time lasso.fit(X_train, y_train)\n",
        "lasso.score(X_test, y_test)"
      ],
      "metadata": {
        "colab": {
          "base_uri": "https://localhost:8080/"
        },
        "id": "GR1eqVQJTosI",
        "outputId": "7864fcc4-ac08-48c1-bc56-38605bd0c881"
      },
      "execution_count": 34,
      "outputs": [
        {
          "output_type": "stream",
          "name": "stdout",
          "text": [
            "CPU times: user 48.4 ms, sys: 57 ms, total: 105 ms\n",
            "Wall time: 59.9 ms\n"
          ]
        },
        {
          "output_type": "execute_result",
          "data": {
            "text/plain": [
              "0.9098749972992153"
            ]
          },
          "metadata": {},
          "execution_count": 34
        }
      ]
    },
    {
      "cell_type": "code",
      "source": [
        "\n",
        "#prediction\n",
        "y_pred3 = lasso.predict(X_test)\n",
        "print(y_pred3)"
      ],
      "metadata": {
        "colab": {
          "base_uri": "https://localhost:8080/"
        },
        "id": "G3Us020HTuWc",
        "outputId": "898eb6a9-3f9d-4ce7-8346-5138f8af10e7"
      },
      "execution_count": 35,
      "outputs": [
        {
          "output_type": "stream",
          "name": "stdout",
          "text": [
            "[  3.17211774  82.44318882 107.33067725 ...  -4.9241516   -4.00042919\n",
            "   7.75582938]\n"
          ]
        }
      ]
    },
    {
      "cell_type": "markdown",
      "source": [
        "### Checking MAE, MSE, RMSE"
      ],
      "metadata": {
        "id": "Ltqrlqq0TxpI"
      }
    },
    {
      "cell_type": "code",
      "source": [
        "#check MAE, MSE and MSE\n",
        "print('Mean Absolute Error : ', metrics.mean_absolute_error(y_test, y_pred3))\n",
        "print('Mean Squared Error : ', metrics.mean_squared_error(y_test, y_pred3))\n",
        "print('Root Mean Squared Error : ', math.sqrt(metrics.mean_squared_error(y_test, y_pred3)))"
      ],
      "metadata": {
        "colab": {
          "base_uri": "https://localhost:8080/"
        },
        "id": "wYKHyEOqTv6Z",
        "outputId": "8ce72a6e-39a4-4d5e-be04-d487b5e28ae3"
      },
      "execution_count": 36,
      "outputs": [
        {
          "output_type": "stream",
          "name": "stdout",
          "text": [
            "Mean Absolute Error :  6.958401638582877\n",
            "Mean Squared Error :  101.15479357255734\n",
            "Root Mean Squared Error :  10.057573940695507\n"
          ]
        }
      ]
    },
    {
      "cell_type": "markdown",
      "source": [
        "## Comparison of all the models and their MAE,MSE and RMSE"
      ],
      "metadata": {
        "id": "IORgfHPimPDD"
      }
    },
    {
      "cell_type": "code",
      "source": [
        "table=pd.DataFrame({\n",
        "        \"Model\":['Linear Regression','Ridge Regression','Lasso Regression'],\n",
        "        \"MAE\":[2.55,4.13,6.95],\n",
        "        \"MSE\":[17.77,35.51,101.54],\n",
        "        \"RMSE\":[4.22,5.96,10.06]\n",
        "})\n",
        "table"
      ],
      "metadata": {
        "colab": {
          "base_uri": "https://localhost:8080/",
          "height": 143
        },
        "id": "ozJvSVKrT0fU",
        "outputId": "765ed5fa-0771-4067-8046-6c0e3bd96afa"
      },
      "execution_count": 37,
      "outputs": [
        {
          "output_type": "execute_result",
          "data": {
            "text/plain": [
              "               Model   MAE     MSE   RMSE\n",
              "0  Linear Regression  2.55   17.77   4.22\n",
              "1   Ridge Regression  4.13   35.51   5.96\n",
              "2   Lasso Regression  6.95  101.54  10.06"
            ],
            "text/html": [
              "\n",
              "  <div id=\"df-5f9fa890-14d6-43fd-bcdc-b2dd0b1d079d\">\n",
              "    <div class=\"colab-df-container\">\n",
              "      <div>\n",
              "<style scoped>\n",
              "    .dataframe tbody tr th:only-of-type {\n",
              "        vertical-align: middle;\n",
              "    }\n",
              "\n",
              "    .dataframe tbody tr th {\n",
              "        vertical-align: top;\n",
              "    }\n",
              "\n",
              "    .dataframe thead th {\n",
              "        text-align: right;\n",
              "    }\n",
              "</style>\n",
              "<table border=\"1\" class=\"dataframe\">\n",
              "  <thead>\n",
              "    <tr style=\"text-align: right;\">\n",
              "      <th></th>\n",
              "      <th>Model</th>\n",
              "      <th>MAE</th>\n",
              "      <th>MSE</th>\n",
              "      <th>RMSE</th>\n",
              "    </tr>\n",
              "  </thead>\n",
              "  <tbody>\n",
              "    <tr>\n",
              "      <th>0</th>\n",
              "      <td>Linear Regression</td>\n",
              "      <td>2.55</td>\n",
              "      <td>17.77</td>\n",
              "      <td>4.22</td>\n",
              "    </tr>\n",
              "    <tr>\n",
              "      <th>1</th>\n",
              "      <td>Ridge Regression</td>\n",
              "      <td>4.13</td>\n",
              "      <td>35.51</td>\n",
              "      <td>5.96</td>\n",
              "    </tr>\n",
              "    <tr>\n",
              "      <th>2</th>\n",
              "      <td>Lasso Regression</td>\n",
              "      <td>6.95</td>\n",
              "      <td>101.54</td>\n",
              "      <td>10.06</td>\n",
              "    </tr>\n",
              "  </tbody>\n",
              "</table>\n",
              "</div>\n",
              "      <button class=\"colab-df-convert\" onclick=\"convertToInteractive('df-5f9fa890-14d6-43fd-bcdc-b2dd0b1d079d')\"\n",
              "              title=\"Convert this dataframe to an interactive table.\"\n",
              "              style=\"display:none;\">\n",
              "        \n",
              "  <svg xmlns=\"http://www.w3.org/2000/svg\" height=\"24px\"viewBox=\"0 0 24 24\"\n",
              "       width=\"24px\">\n",
              "    <path d=\"M0 0h24v24H0V0z\" fill=\"none\"/>\n",
              "    <path d=\"M18.56 5.44l.94 2.06.94-2.06 2.06-.94-2.06-.94-.94-2.06-.94 2.06-2.06.94zm-11 1L8.5 8.5l.94-2.06 2.06-.94-2.06-.94L8.5 2.5l-.94 2.06-2.06.94zm10 10l.94 2.06.94-2.06 2.06-.94-2.06-.94-.94-2.06-.94 2.06-2.06.94z\"/><path d=\"M17.41 7.96l-1.37-1.37c-.4-.4-.92-.59-1.43-.59-.52 0-1.04.2-1.43.59L10.3 9.45l-7.72 7.72c-.78.78-.78 2.05 0 2.83L4 21.41c.39.39.9.59 1.41.59.51 0 1.02-.2 1.41-.59l7.78-7.78 2.81-2.81c.8-.78.8-2.07 0-2.86zM5.41 20L4 18.59l7.72-7.72 1.47 1.35L5.41 20z\"/>\n",
              "  </svg>\n",
              "      </button>\n",
              "      \n",
              "  <style>\n",
              "    .colab-df-container {\n",
              "      display:flex;\n",
              "      flex-wrap:wrap;\n",
              "      gap: 12px;\n",
              "    }\n",
              "\n",
              "    .colab-df-convert {\n",
              "      background-color: #E8F0FE;\n",
              "      border: none;\n",
              "      border-radius: 50%;\n",
              "      cursor: pointer;\n",
              "      display: none;\n",
              "      fill: #1967D2;\n",
              "      height: 32px;\n",
              "      padding: 0 0 0 0;\n",
              "      width: 32px;\n",
              "    }\n",
              "\n",
              "    .colab-df-convert:hover {\n",
              "      background-color: #E2EBFA;\n",
              "      box-shadow: 0px 1px 2px rgba(60, 64, 67, 0.3), 0px 1px 3px 1px rgba(60, 64, 67, 0.15);\n",
              "      fill: #174EA6;\n",
              "    }\n",
              "\n",
              "    [theme=dark] .colab-df-convert {\n",
              "      background-color: #3B4455;\n",
              "      fill: #D2E3FC;\n",
              "    }\n",
              "\n",
              "    [theme=dark] .colab-df-convert:hover {\n",
              "      background-color: #434B5C;\n",
              "      box-shadow: 0px 1px 3px 1px rgba(0, 0, 0, 0.15);\n",
              "      filter: drop-shadow(0px 1px 2px rgba(0, 0, 0, 0.3));\n",
              "      fill: #FFFFFF;\n",
              "    }\n",
              "  </style>\n",
              "\n",
              "      <script>\n",
              "        const buttonEl =\n",
              "          document.querySelector('#df-5f9fa890-14d6-43fd-bcdc-b2dd0b1d079d button.colab-df-convert');\n",
              "        buttonEl.style.display =\n",
              "          google.colab.kernel.accessAllowed ? 'block' : 'none';\n",
              "\n",
              "        async function convertToInteractive(key) {\n",
              "          const element = document.querySelector('#df-5f9fa890-14d6-43fd-bcdc-b2dd0b1d079d');\n",
              "          const dataTable =\n",
              "            await google.colab.kernel.invokeFunction('convertToInteractive',\n",
              "                                                     [key], {});\n",
              "          if (!dataTable) return;\n",
              "\n",
              "          const docLinkHtml = 'Like what you see? Visit the ' +\n",
              "            '<a target=\"_blank\" href=https://colab.research.google.com/notebooks/data_table.ipynb>data table notebook</a>'\n",
              "            + ' to learn more about interactive tables.';\n",
              "          element.innerHTML = '';\n",
              "          dataTable['output_type'] = 'display_data';\n",
              "          await google.colab.output.renderOutput(dataTable, element);\n",
              "          const docLink = document.createElement('div');\n",
              "          docLink.innerHTML = docLinkHtml;\n",
              "          element.appendChild(docLink);\n",
              "        }\n",
              "      </script>\n",
              "    </div>\n",
              "  </div>\n",
              "  "
            ]
          },
          "metadata": {},
          "execution_count": 37
        }
      ]
    },
    {
      "cell_type": "markdown",
      "source": [
        "### Conculsion\n",
        "Linear Regression is the best model in terms of MAE, MSE, RMSE"
      ],
      "metadata": {
        "id": "lxkgkimRm2RB"
      }
    },
    {
      "cell_type": "code",
      "source": [
        ""
      ],
      "metadata": {
        "id": "SGnaqIWVmd2S"
      },
      "execution_count": 37,
      "outputs": []
    }
  ]
}